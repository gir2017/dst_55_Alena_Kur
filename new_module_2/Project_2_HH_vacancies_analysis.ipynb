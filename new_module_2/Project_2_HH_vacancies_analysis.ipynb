{
 "cells": [
  {
   "cell_type": "markdown",
   "id": "42289889-bd57-434e-9637-d3e354756316",
   "metadata": {
    "id": "42289889-bd57-434e-9637-d3e354756316"
   },
   "source": [
    "<center> <img src = https://raw.githubusercontent.com/AndreyRysistov/DatasetsForPandas/main/hh%20label.jpg alt=\"drawing\" style=\"width:400px;\">"
   ]
  },
  {
   "cell_type": "markdown",
   "id": "829cb75b-f14e-4ba8-9195-7ba929a7d656",
   "metadata": {
    "id": "829cb75b-f14e-4ba8-9195-7ba929a7d656",
    "tags": []
   },
   "source": [
    "# <center> Project: Analysis of vacancies from HeadHunter\n",
    "   "
   ]
  },
  {
   "cell_type": "code",
   "execution_count": 1,
   "id": "dccfde33-2452-43fb-a8a5-5c6ebc02a71d",
   "metadata": {
    "id": "dccfde33-2452-43fb-a8a5-5c6ebc02a71d"
   },
   "outputs": [],
   "source": [
    "# import all necessary libraries\n",
    "import pandas as pd\n",
    "import psycopg2\n",
    "import re\n",
    "import matplotlib.pyplot as plt\n",
    "import seaborn as sns \n",
    "from matplotlib_venn import venn3,venn2, venn3_circles\n",
    "import numpy as np"
   ]
  },
  {
   "cell_type": "code",
   "execution_count": 3,
   "id": "G4X_q8KBf7SF",
   "metadata": {
    "id": "G4X_q8KBf7SF"
   },
   "outputs": [],
   "source": [
    "# start the connection to the sql database\n",
    "connection = psycopg2.connect(\n",
    "    dbname=DBNAME,\n",
    "    user=USER,\n",
    "    host=HOST,\n",
    "    password=PASSWORD,\n",
    "    port=PORT\n",
    ")"
   ]
  },
  {
   "cell_type": "markdown",
   "id": "0dc6476b-7a00-44f1-ac93-6e3baed33a29",
   "metadata": {
    "id": "0dc6476b-7a00-44f1-ac93-6e3baed33a29"
   },
   "source": [
    "# Unit 3. Preliminary data analysis"
   ]
  },
  {
   "cell_type": "markdown",
   "id": "889782b6-8d1c-410e-8920-e57f27917c64",
   "metadata": {
    "id": "889782b6-8d1c-410e-8920-e57f27917c64"
   },
   "source": [
    "1. Write a query that will count the number of vacancies in our database (vacancies are in the *vacancies* table). "
   ]
  },
  {
   "cell_type": "code",
   "execution_count": 4,
   "id": "bc39e68e-ed02-4ee2-9235-7258a2f867a8",
   "metadata": {
    "id": "bc39e68e-ed02-4ee2-9235-7258a2f867a8"
   },
   "outputs": [],
   "source": [
    "# write the query\n",
    "query_3_1 = f'''select \n",
    "                    -- count number of vacancies id and specify column new name\n",
    "                    count(v.id) \"number of vacancies\" \n",
    "                    \n",
    "                -- specify the name of the table and indicate its short name\n",
    "                from public.vacancies v \n",
    "'''"
   ]
  },
  {
   "cell_type": "code",
   "execution_count": 5,
   "id": "7mAwtsk4hEHY",
   "metadata": {
    "id": "7mAwtsk4hEHY"
   },
   "outputs": [
    {
     "data": {
      "text/html": [
       "<div>\n",
       "<style scoped>\n",
       "    .dataframe tbody tr th:only-of-type {\n",
       "        vertical-align: middle;\n",
       "    }\n",
       "\n",
       "    .dataframe tbody tr th {\n",
       "        vertical-align: top;\n",
       "    }\n",
       "\n",
       "    .dataframe thead th {\n",
       "        text-align: right;\n",
       "    }\n",
       "</style>\n",
       "<table border=\"1\" class=\"dataframe\">\n",
       "  <thead>\n",
       "    <tr style=\"text-align: right;\">\n",
       "      <th></th>\n",
       "      <th>number of vacancies</th>\n",
       "    </tr>\n",
       "  </thead>\n",
       "  <tbody>\n",
       "    <tr>\n",
       "      <th>0</th>\n",
       "      <td>49197</td>\n",
       "    </tr>\n",
       "  </tbody>\n",
       "</table>\n",
       "</div>"
      ],
      "text/plain": [
       "   number of vacancies\n",
       "0                49197"
      ]
     },
     "execution_count": 5,
     "metadata": {},
     "output_type": "execute_result"
    }
   ],
   "source": [
    "# run the query and print the results\n",
    "df = pd.read_sql_query(query_3_1, connection)\n",
    "df\n"
   ]
  },
  {
   "cell_type": "markdown",
   "id": "b583485d-1f9e-494e-ada4-80ffff7c53d6",
   "metadata": {
    "id": "b583485d-1f9e-494e-ada4-80ffff7c53d6"
   },
   "source": [
    "2. Write a query that will count number of employers (*employers* table). "
   ]
  },
  {
   "cell_type": "code",
   "execution_count": 6,
   "id": "5408c52c-3407-4a63-b25b-1aafa2322d28",
   "metadata": {
    "id": "5408c52c-3407-4a63-b25b-1aafa2322d28"
   },
   "outputs": [],
   "source": [
    "# write the query\n",
    "query_3_2 = f'''select \n",
    "                    count(e.id) \"number of employers\"\n",
    "                from public.employers e\n",
    "'''"
   ]
  },
  {
   "cell_type": "code",
   "execution_count": 7,
   "id": "jVL4eshKhdqc",
   "metadata": {
    "id": "jVL4eshKhdqc"
   },
   "outputs": [
    {
     "data": {
      "text/html": [
       "<div>\n",
       "<style scoped>\n",
       "    .dataframe tbody tr th:only-of-type {\n",
       "        vertical-align: middle;\n",
       "    }\n",
       "\n",
       "    .dataframe tbody tr th {\n",
       "        vertical-align: top;\n",
       "    }\n",
       "\n",
       "    .dataframe thead th {\n",
       "        text-align: right;\n",
       "    }\n",
       "</style>\n",
       "<table border=\"1\" class=\"dataframe\">\n",
       "  <thead>\n",
       "    <tr style=\"text-align: right;\">\n",
       "      <th></th>\n",
       "      <th>number of employers</th>\n",
       "    </tr>\n",
       "  </thead>\n",
       "  <tbody>\n",
       "    <tr>\n",
       "      <th>0</th>\n",
       "      <td>23501</td>\n",
       "    </tr>\n",
       "  </tbody>\n",
       "</table>\n",
       "</div>"
      ],
      "text/plain": [
       "   number of employers\n",
       "0                23501"
      ]
     },
     "execution_count": 7,
     "metadata": {},
     "output_type": "execute_result"
    }
   ],
   "source": [
    "# run the query and print the results\n",
    "df = pd.read_sql_query(query_3_2, connection)\n",
    "df"
   ]
  },
  {
   "cell_type": "markdown",
   "id": "a2bfff1f-c975-4bf6-84be-2185d79dcb76",
   "metadata": {
    "id": "a2bfff1f-c975-4bf6-84be-2185d79dcb76"
   },
   "source": [
    "3. Count number of areas using query (table *areas*)."
   ]
  },
  {
   "cell_type": "code",
   "execution_count": 8,
   "id": "1m8QJwBYhey6",
   "metadata": {
    "id": "1m8QJwBYhey6"
   },
   "outputs": [],
   "source": [
    "# write the query\n",
    "query_3_3 = f'''select\n",
    "                    count(a.id) \"number of areas\"\n",
    "                from public.areas a\n",
    "'''"
   ]
  },
  {
   "cell_type": "code",
   "execution_count": 9,
   "id": "EZsn9tlfhe7f",
   "metadata": {
    "id": "EZsn9tlfhe7f"
   },
   "outputs": [
    {
     "data": {
      "text/html": [
       "<div>\n",
       "<style scoped>\n",
       "    .dataframe tbody tr th:only-of-type {\n",
       "        vertical-align: middle;\n",
       "    }\n",
       "\n",
       "    .dataframe tbody tr th {\n",
       "        vertical-align: top;\n",
       "    }\n",
       "\n",
       "    .dataframe thead th {\n",
       "        text-align: right;\n",
       "    }\n",
       "</style>\n",
       "<table border=\"1\" class=\"dataframe\">\n",
       "  <thead>\n",
       "    <tr style=\"text-align: right;\">\n",
       "      <th></th>\n",
       "      <th>number of areas</th>\n",
       "    </tr>\n",
       "  </thead>\n",
       "  <tbody>\n",
       "    <tr>\n",
       "      <th>0</th>\n",
       "      <td>1362</td>\n",
       "    </tr>\n",
       "  </tbody>\n",
       "</table>\n",
       "</div>"
      ],
      "text/plain": [
       "   number of areas\n",
       "0             1362"
      ]
     },
     "execution_count": 9,
     "metadata": {},
     "output_type": "execute_result"
    }
   ],
   "source": [
    "# run the query and print the results\n",
    "df = pd.read_sql_query(query_3_3, connection)\n",
    "df"
   ]
  },
  {
   "cell_type": "markdown",
   "id": "41bb59f3-53cc-4a67-a5bc-bedf573955e4",
   "metadata": {
    "id": "41bb59f3-53cc-4a67-a5bc-bedf573955e4"
   },
   "source": [
    "4.Calculate number of areas of activity in the database using query (*industries* table)."
   ]
  },
  {
   "cell_type": "code",
   "execution_count": 10,
   "id": "d286cf4c-707b-4cd2-9190-7ab3587d04a1",
   "metadata": {
    "id": "d286cf4c-707b-4cd2-9190-7ab3587d04a1"
   },
   "outputs": [],
   "source": [
    "query_3_4 = f'''select\n",
    "                    count(i.id) \"number of industries\"\n",
    "                from public.industries i\n",
    "'''"
   ]
  },
  {
   "cell_type": "code",
   "execution_count": 11,
   "id": "JYAaoZ4qhfzW",
   "metadata": {
    "id": "JYAaoZ4qhfzW"
   },
   "outputs": [
    {
     "data": {
      "text/html": [
       "<div>\n",
       "<style scoped>\n",
       "    .dataframe tbody tr th:only-of-type {\n",
       "        vertical-align: middle;\n",
       "    }\n",
       "\n",
       "    .dataframe tbody tr th {\n",
       "        vertical-align: top;\n",
       "    }\n",
       "\n",
       "    .dataframe thead th {\n",
       "        text-align: right;\n",
       "    }\n",
       "</style>\n",
       "<table border=\"1\" class=\"dataframe\">\n",
       "  <thead>\n",
       "    <tr style=\"text-align: right;\">\n",
       "      <th></th>\n",
       "      <th>number of industries</th>\n",
       "    </tr>\n",
       "  </thead>\n",
       "  <tbody>\n",
       "    <tr>\n",
       "      <th>0</th>\n",
       "      <td>294</td>\n",
       "    </tr>\n",
       "  </tbody>\n",
       "</table>\n",
       "</div>"
      ],
      "text/plain": [
       "   number of industries\n",
       "0                   294"
      ]
     },
     "execution_count": 11,
     "metadata": {},
     "output_type": "execute_result"
    }
   ],
   "source": [
    "df = pd.read_sql_query(query_3_4, connection)\n",
    "df"
   ]
  },
  {
   "cell_type": "markdown",
   "id": "9a8a2181-6914-448b-85f1-38f5f18b8a93",
   "metadata": {
    "id": "9a8a2181-6914-448b-85f1-38f5f18b8a93"
   },
   "source": [
    "***"
   ]
  },
  {
   "cell_type": "markdown",
   "id": "baa5809a",
   "metadata": {
    "id": "be4e9bd3-a4db-4a20-82fb-6b02fc2957e0"
   },
   "source": [
    "1. There are:\n",
    "    1. 49197 number of vacancies\n",
    "    2. 23501 number of employers\n",
    "    3. 1362 number of vacancies and employers areas\n",
    "    4. 294 number of areas of employer activity\n",
    "1. All id's doesn't have any duplicates as the same results with *distinct* function were received.\n",
    "2. It seems that a lot of employers have more than one vacancy because the number of vacancies is twice as large as the number of employers.\n"
   ]
  },
  {
   "cell_type": "markdown",
   "id": "8d62a9f3-f64e-4fe7-bdac-c4dffa16155e",
   "metadata": {
    "id": "8d62a9f3-f64e-4fe7-bdac-c4dffa16155e"
   },
   "source": [
    "# Unit 4. Detailed analysis of vacancies"
   ]
  },
  {
   "cell_type": "markdown",
   "id": "93053d3d-b284-481a-9cf7-012d7014c0e0",
   "metadata": {
    "id": "93053d3d-b284-481a-9cf7-012d7014c0e0"
   },
   "source": [
    "1. Write a query which will count number of vacancies (cnt) in each region (area). Sort by a number of vacancies in descending order."
   ]
  },
  {
   "cell_type": "code",
   "execution_count": 12,
   "id": "3f069da6-fdc9-4ae7-b514-fafe2675efd3",
   "metadata": {
    "id": "3f069da6-fdc9-4ae7-b514-fafe2675efd3"
   },
   "outputs": [],
   "source": [
    "query_4_1 = f'''select\n",
    "                    a.name,\n",
    "                    count(v.id) cnt\n",
    "                -- specify the main table with vacancies   \n",
    "                from public.vacancies v\n",
    "                -- join another table with areas to the main table\n",
    "                left join public.areas a on a.id = v.area_id\n",
    "                -- group by areas\n",
    "                group by a.name\n",
    "                -- sort by a number of vacancies in descending order\n",
    "                order by 2 desc\n",
    "'''"
   ]
  },
  {
   "cell_type": "code",
   "execution_count": 13,
   "id": "P7QL86hrjhRJ",
   "metadata": {
    "id": "P7QL86hrjhRJ"
   },
   "outputs": [
    {
     "data": {
      "text/html": [
       "<div>\n",
       "<style scoped>\n",
       "    .dataframe tbody tr th:only-of-type {\n",
       "        vertical-align: middle;\n",
       "    }\n",
       "\n",
       "    .dataframe tbody tr th {\n",
       "        vertical-align: top;\n",
       "    }\n",
       "\n",
       "    .dataframe thead th {\n",
       "        text-align: right;\n",
       "    }\n",
       "</style>\n",
       "<table border=\"1\" class=\"dataframe\">\n",
       "  <thead>\n",
       "    <tr style=\"text-align: right;\">\n",
       "      <th></th>\n",
       "      <th>name</th>\n",
       "      <th>cnt</th>\n",
       "    </tr>\n",
       "  </thead>\n",
       "  <tbody>\n",
       "    <tr>\n",
       "      <th>0</th>\n",
       "      <td>Москва</td>\n",
       "      <td>5333</td>\n",
       "    </tr>\n",
       "    <tr>\n",
       "      <th>1</th>\n",
       "      <td>Санкт-Петербург</td>\n",
       "      <td>2851</td>\n",
       "    </tr>\n",
       "    <tr>\n",
       "      <th>2</th>\n",
       "      <td>Минск</td>\n",
       "      <td>2112</td>\n",
       "    </tr>\n",
       "    <tr>\n",
       "      <th>3</th>\n",
       "      <td>Новосибирск</td>\n",
       "      <td>2006</td>\n",
       "    </tr>\n",
       "    <tr>\n",
       "      <th>4</th>\n",
       "      <td>Алматы</td>\n",
       "      <td>1892</td>\n",
       "    </tr>\n",
       "    <tr>\n",
       "      <th>...</th>\n",
       "      <td>...</td>\n",
       "      <td>...</td>\n",
       "    </tr>\n",
       "    <tr>\n",
       "      <th>764</th>\n",
       "      <td>Тарко-Сале</td>\n",
       "      <td>1</td>\n",
       "    </tr>\n",
       "    <tr>\n",
       "      <th>765</th>\n",
       "      <td>Новоаннинский</td>\n",
       "      <td>1</td>\n",
       "    </tr>\n",
       "    <tr>\n",
       "      <th>766</th>\n",
       "      <td>Бирск</td>\n",
       "      <td>1</td>\n",
       "    </tr>\n",
       "    <tr>\n",
       "      <th>767</th>\n",
       "      <td>Сасово</td>\n",
       "      <td>1</td>\n",
       "    </tr>\n",
       "    <tr>\n",
       "      <th>768</th>\n",
       "      <td>Анна</td>\n",
       "      <td>1</td>\n",
       "    </tr>\n",
       "  </tbody>\n",
       "</table>\n",
       "<p>769 rows × 2 columns</p>\n",
       "</div>"
      ],
      "text/plain": [
       "                name   cnt\n",
       "0             Москва  5333\n",
       "1    Санкт-Петербург  2851\n",
       "2              Минск  2112\n",
       "3        Новосибирск  2006\n",
       "4             Алматы  1892\n",
       "..               ...   ...\n",
       "764       Тарко-Сале     1\n",
       "765    Новоаннинский     1\n",
       "766            Бирск     1\n",
       "767           Сасово     1\n",
       "768             Анна     1\n",
       "\n",
       "[769 rows x 2 columns]"
      ]
     },
     "execution_count": 13,
     "metadata": {},
     "output_type": "execute_result"
    }
   ],
   "source": [
    "df = pd.read_sql_query(query_4_1, connection)\n",
    "df"
   ]
  },
  {
   "cell_type": "markdown",
   "id": "4266f0b6-1646-492a-88b4-2f6a46502135",
   "metadata": {
    "id": "4266f0b6-1646-492a-88b4-2f6a46502135"
   },
   "source": [
    "2. Write a query to calculate how many vacancies have at least one salary data. "
   ]
  },
  {
   "cell_type": "code",
   "execution_count": 14,
   "id": "0c44b350-72eb-4d65-8b54-a1fc449ba9fd",
   "metadata": {
    "id": "0c44b350-72eb-4d65-8b54-a1fc449ba9fd"
   },
   "outputs": [],
   "source": [
    "query_4_2 = f'''select\n",
    "                    count(*) cnt\n",
    "                from public.vacancies v\n",
    "                -- select only rows which contain at least one salary data\n",
    "                where salary_from is not null\n",
    "                    or salary_to is not null\n",
    "'''"
   ]
  },
  {
   "cell_type": "code",
   "execution_count": 15,
   "id": "rhvwaMDkoWTi",
   "metadata": {
    "id": "rhvwaMDkoWTi"
   },
   "outputs": [
    {
     "data": {
      "text/html": [
       "<div>\n",
       "<style scoped>\n",
       "    .dataframe tbody tr th:only-of-type {\n",
       "        vertical-align: middle;\n",
       "    }\n",
       "\n",
       "    .dataframe tbody tr th {\n",
       "        vertical-align: top;\n",
       "    }\n",
       "\n",
       "    .dataframe thead th {\n",
       "        text-align: right;\n",
       "    }\n",
       "</style>\n",
       "<table border=\"1\" class=\"dataframe\">\n",
       "  <thead>\n",
       "    <tr style=\"text-align: right;\">\n",
       "      <th></th>\n",
       "      <th>cnt</th>\n",
       "    </tr>\n",
       "  </thead>\n",
       "  <tbody>\n",
       "    <tr>\n",
       "      <th>0</th>\n",
       "      <td>24073</td>\n",
       "    </tr>\n",
       "  </tbody>\n",
       "</table>\n",
       "</div>"
      ],
      "text/plain": [
       "     cnt\n",
       "0  24073"
      ]
     },
     "execution_count": 15,
     "metadata": {},
     "output_type": "execute_result"
    }
   ],
   "source": [
    "df = pd.read_sql_query(query_4_2, connection)\n",
    "df"
   ]
  },
  {
   "cell_type": "markdown",
   "id": "635c4d5d-f323-4c66-b428-50a088120aa0",
   "metadata": {
    "id": "635c4d5d-f323-4c66-b428-50a088120aa0"
   },
   "source": [
    "3. Calculate the average of the lowest and highest salary border. Round the values to the nearest integer. "
   ]
  },
  {
   "cell_type": "code",
   "execution_count": 16,
   "id": "603cdbe4-0ec3-4106-8eaf-c73fcdd29165",
   "metadata": {
    "id": "603cdbe4-0ec3-4106-8eaf-c73fcdd29165"
   },
   "outputs": [],
   "source": [
    "query_4_3 = f'''select\n",
    "                    -- calculate average of the lowest salary border & specify new column name\n",
    "                    round(avg(salary_from)) min_avg,\n",
    "                    -- calculate average of the highest salary border & specify new column name\n",
    "                    round(avg(salary_to)) max_avg\n",
    "                from public.vacancies v\n",
    "'''"
   ]
  },
  {
   "cell_type": "code",
   "execution_count": 17,
   "id": "pswpAb66ovZZ",
   "metadata": {
    "id": "pswpAb66ovZZ"
   },
   "outputs": [
    {
     "data": {
      "text/html": [
       "<div>\n",
       "<style scoped>\n",
       "    .dataframe tbody tr th:only-of-type {\n",
       "        vertical-align: middle;\n",
       "    }\n",
       "\n",
       "    .dataframe tbody tr th {\n",
       "        vertical-align: top;\n",
       "    }\n",
       "\n",
       "    .dataframe thead th {\n",
       "        text-align: right;\n",
       "    }\n",
       "</style>\n",
       "<table border=\"1\" class=\"dataframe\">\n",
       "  <thead>\n",
       "    <tr style=\"text-align: right;\">\n",
       "      <th></th>\n",
       "      <th>min_avg</th>\n",
       "      <th>max_avg</th>\n",
       "    </tr>\n",
       "  </thead>\n",
       "  <tbody>\n",
       "    <tr>\n",
       "      <th>0</th>\n",
       "      <td>71065.0</td>\n",
       "      <td>110537.0</td>\n",
       "    </tr>\n",
       "  </tbody>\n",
       "</table>\n",
       "</div>"
      ],
      "text/plain": [
       "   min_avg   max_avg\n",
       "0  71065.0  110537.0"
      ]
     },
     "execution_count": 17,
     "metadata": {},
     "output_type": "execute_result"
    }
   ],
   "source": [
    "df = pd.read_sql_query(query_4_3, connection)\n",
    "df"
   ]
  },
  {
   "cell_type": "markdown",
   "id": "f3fdaec9-5fd3-4260-9cf5-1d7406b628a5",
   "metadata": {
    "id": "f3fdaec9-5fd3-4260-9cf5-1d7406b628a5"
   },
   "source": [
    "4. Write a query which will display counted number of vacancies for each unique pair of schedule & employment type. Sort the results in descending order.\n"
   ]
  },
  {
   "cell_type": "code",
   "execution_count": 18,
   "id": "1ea710ec-871b-431e-9462-c7d0fd87011b",
   "metadata": {
    "id": "1ea710ec-871b-431e-9462-c7d0fd87011b"
   },
   "outputs": [],
   "source": [
    "query_4_4 = f'''select\n",
    "                    schedule,\n",
    "                    employment,\n",
    "                    -- count number of unique vacancies\n",
    "                    count(*) vacancies\n",
    "                from public.vacancies v\n",
    "                -- group by unique pair of schedule & employment type\n",
    "                group by schedule, \n",
    "                    employment\n",
    "                order by 3 desc\n",
    "'''"
   ]
  },
  {
   "cell_type": "code",
   "execution_count": 19,
   "id": "lGUVqavdo4JQ",
   "metadata": {
    "id": "lGUVqavdo4JQ"
   },
   "outputs": [
    {
     "data": {
      "text/html": [
       "<div>\n",
       "<style scoped>\n",
       "    .dataframe tbody tr th:only-of-type {\n",
       "        vertical-align: middle;\n",
       "    }\n",
       "\n",
       "    .dataframe tbody tr th {\n",
       "        vertical-align: top;\n",
       "    }\n",
       "\n",
       "    .dataframe thead th {\n",
       "        text-align: right;\n",
       "    }\n",
       "</style>\n",
       "<table border=\"1\" class=\"dataframe\">\n",
       "  <thead>\n",
       "    <tr style=\"text-align: right;\">\n",
       "      <th></th>\n",
       "      <th>schedule</th>\n",
       "      <th>employment</th>\n",
       "      <th>vacancies</th>\n",
       "    </tr>\n",
       "  </thead>\n",
       "  <tbody>\n",
       "    <tr>\n",
       "      <th>0</th>\n",
       "      <td>Полный день</td>\n",
       "      <td>Полная занятость</td>\n",
       "      <td>35367</td>\n",
       "    </tr>\n",
       "    <tr>\n",
       "      <th>1</th>\n",
       "      <td>Удаленная работа</td>\n",
       "      <td>Полная занятость</td>\n",
       "      <td>7802</td>\n",
       "    </tr>\n",
       "    <tr>\n",
       "      <th>2</th>\n",
       "      <td>Гибкий график</td>\n",
       "      <td>Полная занятость</td>\n",
       "      <td>1593</td>\n",
       "    </tr>\n",
       "    <tr>\n",
       "      <th>3</th>\n",
       "      <td>Удаленная работа</td>\n",
       "      <td>Частичная занятость</td>\n",
       "      <td>1312</td>\n",
       "    </tr>\n",
       "    <tr>\n",
       "      <th>4</th>\n",
       "      <td>Сменный график</td>\n",
       "      <td>Полная занятость</td>\n",
       "      <td>940</td>\n",
       "    </tr>\n",
       "    <tr>\n",
       "      <th>5</th>\n",
       "      <td>Полный день</td>\n",
       "      <td>Стажировка</td>\n",
       "      <td>569</td>\n",
       "    </tr>\n",
       "    <tr>\n",
       "      <th>6</th>\n",
       "      <td>Вахтовый метод</td>\n",
       "      <td>Полная занятость</td>\n",
       "      <td>367</td>\n",
       "    </tr>\n",
       "    <tr>\n",
       "      <th>7</th>\n",
       "      <td>Полный день</td>\n",
       "      <td>Частичная занятость</td>\n",
       "      <td>347</td>\n",
       "    </tr>\n",
       "    <tr>\n",
       "      <th>8</th>\n",
       "      <td>Гибкий график</td>\n",
       "      <td>Частичная занятость</td>\n",
       "      <td>312</td>\n",
       "    </tr>\n",
       "    <tr>\n",
       "      <th>9</th>\n",
       "      <td>Полный день</td>\n",
       "      <td>Проектная работа</td>\n",
       "      <td>141</td>\n",
       "    </tr>\n",
       "    <tr>\n",
       "      <th>10</th>\n",
       "      <td>Удаленная работа</td>\n",
       "      <td>Проектная работа</td>\n",
       "      <td>133</td>\n",
       "    </tr>\n",
       "    <tr>\n",
       "      <th>11</th>\n",
       "      <td>Гибкий график</td>\n",
       "      <td>Стажировка</td>\n",
       "      <td>116</td>\n",
       "    </tr>\n",
       "    <tr>\n",
       "      <th>12</th>\n",
       "      <td>Сменный график</td>\n",
       "      <td>Частичная занятость</td>\n",
       "      <td>101</td>\n",
       "    </tr>\n",
       "    <tr>\n",
       "      <th>13</th>\n",
       "      <td>Удаленная работа</td>\n",
       "      <td>Стажировка</td>\n",
       "      <td>64</td>\n",
       "    </tr>\n",
       "    <tr>\n",
       "      <th>14</th>\n",
       "      <td>Гибкий график</td>\n",
       "      <td>Проектная работа</td>\n",
       "      <td>18</td>\n",
       "    </tr>\n",
       "    <tr>\n",
       "      <th>15</th>\n",
       "      <td>Сменный график</td>\n",
       "      <td>Стажировка</td>\n",
       "      <td>12</td>\n",
       "    </tr>\n",
       "    <tr>\n",
       "      <th>16</th>\n",
       "      <td>Вахтовый метод</td>\n",
       "      <td>Проектная работа</td>\n",
       "      <td>2</td>\n",
       "    </tr>\n",
       "    <tr>\n",
       "      <th>17</th>\n",
       "      <td>Сменный график</td>\n",
       "      <td>Проектная работа</td>\n",
       "      <td>1</td>\n",
       "    </tr>\n",
       "  </tbody>\n",
       "</table>\n",
       "</div>"
      ],
      "text/plain": [
       "            schedule           employment  vacancies\n",
       "0        Полный день     Полная занятость      35367\n",
       "1   Удаленная работа     Полная занятость       7802\n",
       "2      Гибкий график     Полная занятость       1593\n",
       "3   Удаленная работа  Частичная занятость       1312\n",
       "4     Сменный график     Полная занятость        940\n",
       "5        Полный день           Стажировка        569\n",
       "6     Вахтовый метод     Полная занятость        367\n",
       "7        Полный день  Частичная занятость        347\n",
       "8      Гибкий график  Частичная занятость        312\n",
       "9        Полный день     Проектная работа        141\n",
       "10  Удаленная работа     Проектная работа        133\n",
       "11     Гибкий график           Стажировка        116\n",
       "12    Сменный график  Частичная занятость        101\n",
       "13  Удаленная работа           Стажировка         64\n",
       "14     Гибкий график     Проектная работа         18\n",
       "15    Сменный график           Стажировка         12\n",
       "16    Вахтовый метод     Проектная работа          2\n",
       "17    Сменный график     Проектная работа          1"
      ]
     },
     "execution_count": 19,
     "metadata": {},
     "output_type": "execute_result"
    }
   ],
   "source": [
    "df = pd.read_sql_query(query_4_4, connection)\n",
    "df"
   ]
  },
  {
   "cell_type": "markdown",
   "id": "0136ffee-0ead-4a6b-b608-61d1c753a438",
   "metadata": {
    "id": "0136ffee-0ead-4a6b-b608-61d1c753a438"
   },
   "source": [
    "5. Write a query that will display the number of vacancy in ascending order per each unique experience type."
   ]
  },
  {
   "cell_type": "code",
   "execution_count": 20,
   "id": "5b3a8e79-f7ab-4008-b767-12aea3a205ea",
   "metadata": {
    "id": "5b3a8e79-f7ab-4008-b767-12aea3a205ea"
   },
   "outputs": [],
   "source": [
    "query_4_5 = f'''select\n",
    "                    experience,\n",
    "                    count(*) vacancies\n",
    "                from public.vacancies v\n",
    "                group by experience\n",
    "                order by 2 \n",
    "'''"
   ]
  },
  {
   "cell_type": "code",
   "execution_count": 21,
   "id": "3Is64Y-hpDpq",
   "metadata": {
    "id": "3Is64Y-hpDpq"
   },
   "outputs": [
    {
     "data": {
      "text/html": [
       "<div>\n",
       "<style scoped>\n",
       "    .dataframe tbody tr th:only-of-type {\n",
       "        vertical-align: middle;\n",
       "    }\n",
       "\n",
       "    .dataframe tbody tr th {\n",
       "        vertical-align: top;\n",
       "    }\n",
       "\n",
       "    .dataframe thead th {\n",
       "        text-align: right;\n",
       "    }\n",
       "</style>\n",
       "<table border=\"1\" class=\"dataframe\">\n",
       "  <thead>\n",
       "    <tr style=\"text-align: right;\">\n",
       "      <th></th>\n",
       "      <th>experience</th>\n",
       "      <th>vacancies</th>\n",
       "    </tr>\n",
       "  </thead>\n",
       "  <tbody>\n",
       "    <tr>\n",
       "      <th>0</th>\n",
       "      <td>Более 6 лет</td>\n",
       "      <td>1337</td>\n",
       "    </tr>\n",
       "    <tr>\n",
       "      <th>1</th>\n",
       "      <td>Нет опыта</td>\n",
       "      <td>7197</td>\n",
       "    </tr>\n",
       "    <tr>\n",
       "      <th>2</th>\n",
       "      <td>От 3 до 6 лет</td>\n",
       "      <td>14511</td>\n",
       "    </tr>\n",
       "    <tr>\n",
       "      <th>3</th>\n",
       "      <td>От 1 года до 3 лет</td>\n",
       "      <td>26152</td>\n",
       "    </tr>\n",
       "  </tbody>\n",
       "</table>\n",
       "</div>"
      ],
      "text/plain": [
       "           experience  vacancies\n",
       "0         Более 6 лет       1337\n",
       "1           Нет опыта       7197\n",
       "2       От 3 до 6 лет      14511\n",
       "3  От 1 года до 3 лет      26152"
      ]
     },
     "execution_count": 21,
     "metadata": {},
     "output_type": "execute_result"
    }
   ],
   "source": [
    "df = pd.read_sql_query(query_4_5, connection)\n",
    "df"
   ]
  },
  {
   "cell_type": "markdown",
   "id": "oq2b7n1QpIka",
   "metadata": {
    "id": "oq2b7n1QpIka"
   },
   "source": [
    "***"
   ]
  },
  {
   "cell_type": "markdown",
   "id": "98765d8a",
   "metadata": {
    "id": "e91f87ed-e25c-4f96-9f92-b642e8c0b4fa"
   },
   "source": [
    "1. Moscow, Saint-Petersburg, Minsk, Novosibirsk and Almaty are the cities with the biggest number of vacancies. There are cities which have only 1 vacancy. The larger the city, the more vacancies in it.\n",
    "2. There are 769 cities with vacancies. But the total number of areas in the db (database) is 1362 so the rest of the cities are either employer's regions of registration or areas which don't connect to any vacancies or employers. \n",
    "3. 24073 vacancy have at least one salary data so it seems that half of the vacancies don't have any salary data (as the total number of vacancies = 49197).\n",
    "4. The average lowest salary border is 71065 RUB and the highest salary border is 110537 RUB.\n",
    "5. Full employment & full day are the most common vacancy requirements, distant work & full employment are also very popular vacancy requirements. The most unpopular requirements are the combination of project work & rotational method or shift work.\n",
    "6. Most vacancies- 26152 require 1-3 years of experience, the second most common work experience is 3-6 years is listed in 14511 vacancies. In a third place without any experience has 7197 vacancies and finally 1337 vacancies have more than 6 years of experience in requirements. According to the above statements most employers want to find novice workers with at least 1 year experience and least employers want to find person with many years of experience maybe it's because employers need to pay more for the experience.\n"
   ]
  },
  {
   "cell_type": "markdown",
   "id": "7ea20ab6-04a7-40a0-adec-443a0e5a42c3",
   "metadata": {
    "id": "7ea20ab6-04a7-40a0-adec-443a0e5a42c3"
   },
   "source": [
    "# Unit 5. Employer analysis"
   ]
  },
  {
   "cell_type": "markdown",
   "id": "968aed80-74ef-4ffb-b5bf-c65b84e9caea",
   "metadata": {
    "id": "968aed80-74ef-4ffb-b5bf-c65b84e9caea"
   },
   "source": [
    "1. Write a query that will display which employers are in first and fifth place in terms of the number of vacancies."
   ]
  },
  {
   "cell_type": "code",
   "execution_count": 22,
   "id": "f2d62796-d400-4ec1-a675-88112739a50e",
   "metadata": {
    "id": "f2d62796-d400-4ec1-a675-88112739a50e"
   },
   "outputs": [],
   "source": [
    "query_5_1 = f'''select\n",
    "                    e.name,\n",
    "                    count(*) vacancies\n",
    "                from public.vacancies v\n",
    "                left join public.employers e on e.id = v.employer_id\n",
    "                group by e.name\n",
    "                order by 2 desc\n",
    "                -- select top 5 from the list\n",
    "                limit 5\n",
    "'''"
   ]
  },
  {
   "cell_type": "code",
   "execution_count": 23,
   "id": "64tOMkAxqkQk",
   "metadata": {
    "id": "64tOMkAxqkQk"
   },
   "outputs": [
    {
     "data": {
      "text/html": [
       "<div>\n",
       "<style scoped>\n",
       "    .dataframe tbody tr th:only-of-type {\n",
       "        vertical-align: middle;\n",
       "    }\n",
       "\n",
       "    .dataframe tbody tr th {\n",
       "        vertical-align: top;\n",
       "    }\n",
       "\n",
       "    .dataframe thead th {\n",
       "        text-align: right;\n",
       "    }\n",
       "</style>\n",
       "<table border=\"1\" class=\"dataframe\">\n",
       "  <thead>\n",
       "    <tr style=\"text-align: right;\">\n",
       "      <th></th>\n",
       "      <th>name</th>\n",
       "      <th>vacancies</th>\n",
       "    </tr>\n",
       "  </thead>\n",
       "  <tbody>\n",
       "    <tr>\n",
       "      <th>0</th>\n",
       "      <td>Яндекс</td>\n",
       "      <td>1933</td>\n",
       "    </tr>\n",
       "    <tr>\n",
       "      <th>1</th>\n",
       "      <td>Ростелеком</td>\n",
       "      <td>491</td>\n",
       "    </tr>\n",
       "    <tr>\n",
       "      <th>2</th>\n",
       "      <td>Тинькофф</td>\n",
       "      <td>444</td>\n",
       "    </tr>\n",
       "    <tr>\n",
       "      <th>3</th>\n",
       "      <td>СБЕР</td>\n",
       "      <td>428</td>\n",
       "    </tr>\n",
       "    <tr>\n",
       "      <th>4</th>\n",
       "      <td>Газпром нефть</td>\n",
       "      <td>331</td>\n",
       "    </tr>\n",
       "  </tbody>\n",
       "</table>\n",
       "</div>"
      ],
      "text/plain": [
       "            name  vacancies\n",
       "0         Яндекс       1933\n",
       "1     Ростелеком        491\n",
       "2       Тинькофф        444\n",
       "3           СБЕР        428\n",
       "4  Газпром нефть        331"
      ]
     },
     "execution_count": 23,
     "metadata": {},
     "output_type": "execute_result"
    }
   ],
   "source": [
    "df = pd.read_sql_query(query_5_1, connection)\n",
    "df"
   ]
  },
  {
   "cell_type": "markdown",
   "id": "68377cfc-b378-43dc-ab7d-1195abf2c515",
   "metadata": {
    "id": "68377cfc-b378-43dc-ab7d-1195abf2c515"
   },
   "source": [
    "2. Write a query that will calculate number of vacancies & employers per each region. Among the regions in which there are no vacancies, find the one with the largest number of employers."
   ]
  },
  {
   "cell_type": "code",
   "execution_count": 24,
   "id": "dd7df27a-e3e8-412e-a21a-5d389b71e891",
   "metadata": {
    "id": "dd7df27a-e3e8-412e-a21a-5d389b71e891"
   },
   "outputs": [],
   "source": [
    "query_5_2 = f'''select\n",
    "                    a.name area,\n",
    "                    count(distinct(e.name)) employers,\n",
    "                    count(distinct(v.id)) vacancies\n",
    "                from public.areas a\n",
    "                left join public.vacancies v on a.id = v.area_id\n",
    "                left join public.employers e on e.area = a.id\n",
    "                -- select rows without vacancies\n",
    "                where \n",
    "                    v.id is null\n",
    "                group by a.name\n",
    "                -- select  only regions in which there are no vacancies\n",
    "                having \n",
    "                    count(distinct(v.id))=0\n",
    "                order by 2 desc\n",
    "'''"
   ]
  },
  {
   "cell_type": "code",
   "execution_count": 25,
   "id": "x1ikWbydrbf6",
   "metadata": {
    "id": "x1ikWbydrbf6"
   },
   "outputs": [
    {
     "data": {
      "text/html": [
       "<div>\n",
       "<style scoped>\n",
       "    .dataframe tbody tr th:only-of-type {\n",
       "        vertical-align: middle;\n",
       "    }\n",
       "\n",
       "    .dataframe tbody tr th {\n",
       "        vertical-align: top;\n",
       "    }\n",
       "\n",
       "    .dataframe thead th {\n",
       "        text-align: right;\n",
       "    }\n",
       "</style>\n",
       "<table border=\"1\" class=\"dataframe\">\n",
       "  <thead>\n",
       "    <tr style=\"text-align: right;\">\n",
       "      <th></th>\n",
       "      <th>area</th>\n",
       "      <th>employers</th>\n",
       "      <th>vacancies</th>\n",
       "    </tr>\n",
       "  </thead>\n",
       "  <tbody>\n",
       "    <tr>\n",
       "      <th>0</th>\n",
       "      <td>Россия</td>\n",
       "      <td>410</td>\n",
       "      <td>0</td>\n",
       "    </tr>\n",
       "    <tr>\n",
       "      <th>1</th>\n",
       "      <td>Казахстан</td>\n",
       "      <td>207</td>\n",
       "      <td>0</td>\n",
       "    </tr>\n",
       "    <tr>\n",
       "      <th>2</th>\n",
       "      <td>Московская область</td>\n",
       "      <td>75</td>\n",
       "      <td>0</td>\n",
       "    </tr>\n",
       "    <tr>\n",
       "      <th>3</th>\n",
       "      <td>Краснодарский край</td>\n",
       "      <td>19</td>\n",
       "      <td>0</td>\n",
       "    </tr>\n",
       "    <tr>\n",
       "      <th>4</th>\n",
       "      <td>Беларусь</td>\n",
       "      <td>18</td>\n",
       "      <td>0</td>\n",
       "    </tr>\n",
       "    <tr>\n",
       "      <th>...</th>\n",
       "      <td>...</td>\n",
       "      <td>...</td>\n",
       "      <td>...</td>\n",
       "    </tr>\n",
       "    <tr>\n",
       "      <th>588</th>\n",
       "      <td>Кувандык</td>\n",
       "      <td>0</td>\n",
       "      <td>0</td>\n",
       "    </tr>\n",
       "    <tr>\n",
       "      <th>589</th>\n",
       "      <td>Куйбышев</td>\n",
       "      <td>0</td>\n",
       "      <td>0</td>\n",
       "    </tr>\n",
       "    <tr>\n",
       "      <th>590</th>\n",
       "      <td>Куйбышево (Ростовская область)</td>\n",
       "      <td>0</td>\n",
       "      <td>0</td>\n",
       "    </tr>\n",
       "    <tr>\n",
       "      <th>591</th>\n",
       "      <td>Култаево</td>\n",
       "      <td>0</td>\n",
       "      <td>0</td>\n",
       "    </tr>\n",
       "    <tr>\n",
       "      <th>592</th>\n",
       "      <td>Кульсары</td>\n",
       "      <td>0</td>\n",
       "      <td>0</td>\n",
       "    </tr>\n",
       "  </tbody>\n",
       "</table>\n",
       "<p>593 rows × 3 columns</p>\n",
       "</div>"
      ],
      "text/plain": [
       "                               area  employers  vacancies\n",
       "0                            Россия        410          0\n",
       "1                         Казахстан        207          0\n",
       "2                Московская область         75          0\n",
       "3                Краснодарский край         19          0\n",
       "4                          Беларусь         18          0\n",
       "..                              ...        ...        ...\n",
       "588                        Кувандык          0          0\n",
       "589                        Куйбышев          0          0\n",
       "590  Куйбышево (Ростовская область)          0          0\n",
       "591                        Култаево          0          0\n",
       "592                        Кульсары          0          0\n",
       "\n",
       "[593 rows x 3 columns]"
      ]
     },
     "execution_count": 25,
     "metadata": {},
     "output_type": "execute_result"
    }
   ],
   "source": [
    "df = pd.read_sql_query(query_5_2, connection)\n",
    "df"
   ]
  },
  {
   "cell_type": "code",
   "execution_count": 26,
   "id": "b5b3ad56",
   "metadata": {},
   "outputs": [
    {
     "data": {
      "text/html": [
       "<div>\n",
       "<style scoped>\n",
       "    .dataframe tbody tr th:only-of-type {\n",
       "        vertical-align: middle;\n",
       "    }\n",
       "\n",
       "    .dataframe tbody tr th {\n",
       "        vertical-align: top;\n",
       "    }\n",
       "\n",
       "    .dataframe thead th {\n",
       "        text-align: right;\n",
       "    }\n",
       "</style>\n",
       "<table border=\"1\" class=\"dataframe\">\n",
       "  <thead>\n",
       "    <tr style=\"text-align: right;\">\n",
       "      <th></th>\n",
       "      <th>employers</th>\n",
       "      <th>vacancies</th>\n",
       "    </tr>\n",
       "  </thead>\n",
       "  <tbody>\n",
       "    <tr>\n",
       "      <th>count</th>\n",
       "      <td>593.000000</td>\n",
       "      <td>593.0</td>\n",
       "    </tr>\n",
       "    <tr>\n",
       "      <th>mean</th>\n",
       "      <td>1.935919</td>\n",
       "      <td>0.0</td>\n",
       "    </tr>\n",
       "    <tr>\n",
       "      <th>std</th>\n",
       "      <td>19.172209</td>\n",
       "      <td>0.0</td>\n",
       "    </tr>\n",
       "    <tr>\n",
       "      <th>min</th>\n",
       "      <td>0.000000</td>\n",
       "      <td>0.0</td>\n",
       "    </tr>\n",
       "    <tr>\n",
       "      <th>25%</th>\n",
       "      <td>0.000000</td>\n",
       "      <td>0.0</td>\n",
       "    </tr>\n",
       "    <tr>\n",
       "      <th>50%</th>\n",
       "      <td>0.000000</td>\n",
       "      <td>0.0</td>\n",
       "    </tr>\n",
       "    <tr>\n",
       "      <th>75%</th>\n",
       "      <td>1.000000</td>\n",
       "      <td>0.0</td>\n",
       "    </tr>\n",
       "    <tr>\n",
       "      <th>max</th>\n",
       "      <td>410.000000</td>\n",
       "      <td>0.0</td>\n",
       "    </tr>\n",
       "  </tbody>\n",
       "</table>\n",
       "</div>"
      ],
      "text/plain": [
       "        employers  vacancies\n",
       "count  593.000000      593.0\n",
       "mean     1.935919        0.0\n",
       "std     19.172209        0.0\n",
       "min      0.000000        0.0\n",
       "25%      0.000000        0.0\n",
       "50%      0.000000        0.0\n",
       "75%      1.000000        0.0\n",
       "max    410.000000        0.0"
      ]
     },
     "execution_count": 26,
     "metadata": {},
     "output_type": "execute_result"
    }
   ],
   "source": [
    "# look at the data\n",
    "df.describe()"
   ]
  },
  {
   "cell_type": "markdown",
   "id": "f2fe0acb-ab1a-4e15-9326-2560e22d73c1",
   "metadata": {
    "id": "f2fe0acb-ab1a-4e15-9326-2560e22d73c1"
   },
   "source": [
    "3. For each employer calculate number of regions in which he publishes his vacancies. Sort the result in descending order. "
   ]
  },
  {
   "cell_type": "code",
   "execution_count": 27,
   "id": "6271f8ad-bd2e-4196-ae4a-5b39c4c1010e",
   "metadata": {
    "id": "6271f8ad-bd2e-4196-ae4a-5b39c4c1010e"
   },
   "outputs": [],
   "source": [
    "query_5_3 = f'''select\n",
    "                    e.name,\n",
    "                    count(distinct(v.area_id)) region_cnt\n",
    "                from public.employers e\n",
    "                left join public.vacancies v on e.id = v.employer_id\n",
    "                group by e.id,\n",
    "                    e.name\n",
    "                order by 2 desc\n",
    "'''"
   ]
  },
  {
   "cell_type": "code",
   "execution_count": 28,
   "id": "1EIvX3HasH4F",
   "metadata": {
    "id": "1EIvX3HasH4F",
    "scrolled": true
   },
   "outputs": [
    {
     "data": {
      "text/html": [
       "<div>\n",
       "<style scoped>\n",
       "    .dataframe tbody tr th:only-of-type {\n",
       "        vertical-align: middle;\n",
       "    }\n",
       "\n",
       "    .dataframe tbody tr th {\n",
       "        vertical-align: top;\n",
       "    }\n",
       "\n",
       "    .dataframe thead th {\n",
       "        text-align: right;\n",
       "    }\n",
       "</style>\n",
       "<table border=\"1\" class=\"dataframe\">\n",
       "  <thead>\n",
       "    <tr style=\"text-align: right;\">\n",
       "      <th></th>\n",
       "      <th>name</th>\n",
       "      <th>region_cnt</th>\n",
       "    </tr>\n",
       "  </thead>\n",
       "  <tbody>\n",
       "    <tr>\n",
       "      <th>0</th>\n",
       "      <td>Яндекс</td>\n",
       "      <td>181</td>\n",
       "    </tr>\n",
       "    <tr>\n",
       "      <th>1</th>\n",
       "      <td>Ростелеком</td>\n",
       "      <td>152</td>\n",
       "    </tr>\n",
       "    <tr>\n",
       "      <th>2</th>\n",
       "      <td>Спецремонт</td>\n",
       "      <td>116</td>\n",
       "    </tr>\n",
       "    <tr>\n",
       "      <th>3</th>\n",
       "      <td>Поляков Денис Иванович</td>\n",
       "      <td>88</td>\n",
       "    </tr>\n",
       "    <tr>\n",
       "      <th>4</th>\n",
       "      <td>ООО ЕФИН</td>\n",
       "      <td>71</td>\n",
       "    </tr>\n",
       "    <tr>\n",
       "      <th>...</th>\n",
       "      <td>...</td>\n",
       "      <td>...</td>\n",
       "    </tr>\n",
       "    <tr>\n",
       "      <th>23496</th>\n",
       "      <td>Но Смокинг</td>\n",
       "      <td>0</td>\n",
       "    </tr>\n",
       "    <tr>\n",
       "      <th>23497</th>\n",
       "      <td>МАСТЕРСКАЯ CREED</td>\n",
       "      <td>0</td>\n",
       "    </tr>\n",
       "    <tr>\n",
       "      <th>23498</th>\n",
       "      <td>Dzing Finance</td>\n",
       "      <td>0</td>\n",
       "    </tr>\n",
       "    <tr>\n",
       "      <th>23499</th>\n",
       "      <td>КОРС</td>\n",
       "      <td>0</td>\n",
       "    </tr>\n",
       "    <tr>\n",
       "      <th>23500</th>\n",
       "      <td>Наука-Связь</td>\n",
       "      <td>0</td>\n",
       "    </tr>\n",
       "  </tbody>\n",
       "</table>\n",
       "<p>23501 rows × 2 columns</p>\n",
       "</div>"
      ],
      "text/plain": [
       "                         name  region_cnt\n",
       "0                      Яндекс         181\n",
       "1                  Ростелеком         152\n",
       "2                  Спецремонт         116\n",
       "3      Поляков Денис Иванович          88\n",
       "4                   ООО ЕФИН           71\n",
       "...                       ...         ...\n",
       "23496              Но Смокинг           0\n",
       "23497        МАСТЕРСКАЯ CREED           0\n",
       "23498           Dzing Finance           0\n",
       "23499                    КОРС           0\n",
       "23500             Наука-Связь           0\n",
       "\n",
       "[23501 rows x 2 columns]"
      ]
     },
     "execution_count": 28,
     "metadata": {},
     "output_type": "execute_result"
    }
   ],
   "source": [
    "df = pd.read_sql_query(query_5_3, connection)\n",
    "df"
   ]
  },
  {
   "cell_type": "markdown",
   "id": "eab2206d-d95b-468b-8e5f-34381abf0ce7",
   "metadata": {
    "id": "eab2206d-d95b-468b-8e5f-34381abf0ce7"
   },
   "source": [
    "4. Write a query that will calculate a number of employers who don't have area of activity."
   ]
  },
  {
   "cell_type": "code",
   "execution_count": 29,
   "id": "80defb23-bfb1-4a18-8be6-bf36aa7165d5",
   "metadata": {
    "id": "80defb23-bfb1-4a18-8be6-bf36aa7165d5"
   },
   "outputs": [],
   "source": [
    "query_5_4 = f'''select \n",
    "                    count(distinct(employers))\n",
    "                -- create a table with a list of employers without area of activity\n",
    "                from (\n",
    "                -- select all employers\n",
    "                select\n",
    "                    e.id employers\n",
    "                from public.employers e\n",
    "                -- remove employers which have an area of activity\n",
    "                except\n",
    "                select\n",
    "                    distinct(employer_id)\n",
    "                from public.employers_industries) emp\n",
    "                '''"
   ]
  },
  {
   "cell_type": "code",
   "execution_count": 30,
   "id": "Dp_yCx6ysQSu",
   "metadata": {
    "id": "Dp_yCx6ysQSu"
   },
   "outputs": [
    {
     "data": {
      "text/html": [
       "<div>\n",
       "<style scoped>\n",
       "    .dataframe tbody tr th:only-of-type {\n",
       "        vertical-align: middle;\n",
       "    }\n",
       "\n",
       "    .dataframe tbody tr th {\n",
       "        vertical-align: top;\n",
       "    }\n",
       "\n",
       "    .dataframe thead th {\n",
       "        text-align: right;\n",
       "    }\n",
       "</style>\n",
       "<table border=\"1\" class=\"dataframe\">\n",
       "  <thead>\n",
       "    <tr style=\"text-align: right;\">\n",
       "      <th></th>\n",
       "      <th>count</th>\n",
       "    </tr>\n",
       "  </thead>\n",
       "  <tbody>\n",
       "    <tr>\n",
       "      <th>0</th>\n",
       "      <td>8419</td>\n",
       "    </tr>\n",
       "  </tbody>\n",
       "</table>\n",
       "</div>"
      ],
      "text/plain": [
       "   count\n",
       "0   8419"
      ]
     },
     "execution_count": 30,
     "metadata": {},
     "output_type": "execute_result"
    }
   ],
   "source": [
    "df = pd.read_sql_query(query_5_4, connection)\n",
    "df"
   ]
  },
  {
   "cell_type": "markdown",
   "id": "0112af31-f6b0-4e3b-82ab-71296e752e5e",
   "metadata": {
    "id": "0112af31-f6b0-4e3b-82ab-71296e752e5e"
   },
   "source": [
    "5. Write a query to find out the name of the company that is in the third place in the alphabetical list of companies that have 4 area of activity."
   ]
  },
  {
   "cell_type": "code",
   "execution_count": 31,
   "id": "973b0cfc-a972-470a-8b4a-68744ef220c4",
   "metadata": {
    "id": "973b0cfc-a972-470a-8b4a-68744ef220c4"
   },
   "outputs": [],
   "source": [
    "query_5_5 = f'''select\n",
    "                    e.name,\n",
    "                    count(industry_id)\n",
    "                from public.employers_industries ei\n",
    "                left join public.employers e on e.id=ei.employer_id\n",
    "                group by e.id,\n",
    "                    e.name\n",
    "                -- select only companies that have 4 area of activity\n",
    "                having \n",
    "                    count(industry_id) = 4\n",
    "                order by 1\n",
    "'''"
   ]
  },
  {
   "cell_type": "code",
   "execution_count": 32,
   "id": "xsPtpp8EsaED",
   "metadata": {
    "id": "xsPtpp8EsaED"
   },
   "outputs": [
    {
     "data": {
      "text/html": [
       "<div>\n",
       "<style scoped>\n",
       "    .dataframe tbody tr th:only-of-type {\n",
       "        vertical-align: middle;\n",
       "    }\n",
       "\n",
       "    .dataframe tbody tr th {\n",
       "        vertical-align: top;\n",
       "    }\n",
       "\n",
       "    .dataframe thead th {\n",
       "        text-align: right;\n",
       "    }\n",
       "</style>\n",
       "<table border=\"1\" class=\"dataframe\">\n",
       "  <thead>\n",
       "    <tr style=\"text-align: right;\">\n",
       "      <th></th>\n",
       "      <th>name</th>\n",
       "      <th>count</th>\n",
       "    </tr>\n",
       "  </thead>\n",
       "  <tbody>\n",
       "    <tr>\n",
       "      <th>0</th>\n",
       "      <td>101 Интернет</td>\n",
       "      <td>4</td>\n",
       "    </tr>\n",
       "    <tr>\n",
       "      <th>1</th>\n",
       "      <td>21vek.by</td>\n",
       "      <td>4</td>\n",
       "    </tr>\n",
       "    <tr>\n",
       "      <th>2</th>\n",
       "      <td>2ГИС</td>\n",
       "      <td>4</td>\n",
       "    </tr>\n",
       "    <tr>\n",
       "      <th>3</th>\n",
       "      <td>2К</td>\n",
       "      <td>4</td>\n",
       "    </tr>\n",
       "    <tr>\n",
       "      <th>4</th>\n",
       "      <td>4 пикселя +</td>\n",
       "      <td>4</td>\n",
       "    </tr>\n",
       "    <tr>\n",
       "      <th>...</th>\n",
       "      <td>...</td>\n",
       "      <td>...</td>\n",
       "    </tr>\n",
       "    <tr>\n",
       "      <th>1133</th>\n",
       "      <td>ЮРИОН</td>\n",
       "      <td>4</td>\n",
       "    </tr>\n",
       "    <tr>\n",
       "      <th>1134</th>\n",
       "      <td>ЮТИП Технологии</td>\n",
       "      <td>4</td>\n",
       "    </tr>\n",
       "    <tr>\n",
       "      <th>1135</th>\n",
       "      <td>ЯКласс</td>\n",
       "      <td>4</td>\n",
       "    </tr>\n",
       "    <tr>\n",
       "      <th>1136</th>\n",
       "      <td>ЯрНео</td>\n",
       "      <td>4</td>\n",
       "    </tr>\n",
       "    <tr>\n",
       "      <th>1137</th>\n",
       "      <td>Яшин&amp;Партнёры</td>\n",
       "      <td>4</td>\n",
       "    </tr>\n",
       "  </tbody>\n",
       "</table>\n",
       "<p>1138 rows × 2 columns</p>\n",
       "</div>"
      ],
      "text/plain": [
       "                 name  count\n",
       "0        101 Интернет      4\n",
       "1            21vek.by      4\n",
       "2                2ГИС      4\n",
       "3                  2К      4\n",
       "4         4 пикселя +      4\n",
       "...               ...    ...\n",
       "1133            ЮРИОН      4\n",
       "1134  ЮТИП Технологии      4\n",
       "1135           ЯКласс      4\n",
       "1136            ЯрНео      4\n",
       "1137    Яшин&Партнёры      4\n",
       "\n",
       "[1138 rows x 2 columns]"
      ]
     },
     "execution_count": 32,
     "metadata": {},
     "output_type": "execute_result"
    }
   ],
   "source": [
    "df = pd.read_sql_query(query_5_5, connection)\n",
    "df"
   ]
  },
  {
   "cell_type": "markdown",
   "id": "3bfcfdaf-755d-4d2b-8ed8-326201dc07ab",
   "metadata": {
    "id": "3bfcfdaf-755d-4d2b-8ed8-326201dc07ab"
   },
   "source": [
    "6. Find out the number of employers that have *Разработка программного обеспечения* in area of activity using query."
   ]
  },
  {
   "cell_type": "code",
   "execution_count": 33,
   "id": "ad3f270f-2991-47eb-929b-e8f88a55b0d1",
   "metadata": {
    "id": "ad3f270f-2991-47eb-929b-e8f88a55b0d1"
   },
   "outputs": [],
   "source": [
    "query_5_6 = f'''select\n",
    "                    count(distinct(ei.employer_id))\n",
    "                -- bind all 3 tables with employers list, employer&intustries, industries list together\n",
    "                from public.employers_industries ei\n",
    "                left join public.industries i on ei.industry_id = i.id\n",
    "                left join public.employers e on e.id=ei.employer_id\n",
    "                -- filter by special area\n",
    "                where\n",
    "                    i.name='Разработка программного обеспечения' \n",
    "'''"
   ]
  },
  {
   "cell_type": "code",
   "execution_count": 34,
   "id": "H72qxWM0shPR",
   "metadata": {
    "id": "H72qxWM0shPR"
   },
   "outputs": [
    {
     "data": {
      "text/html": [
       "<div>\n",
       "<style scoped>\n",
       "    .dataframe tbody tr th:only-of-type {\n",
       "        vertical-align: middle;\n",
       "    }\n",
       "\n",
       "    .dataframe tbody tr th {\n",
       "        vertical-align: top;\n",
       "    }\n",
       "\n",
       "    .dataframe thead th {\n",
       "        text-align: right;\n",
       "    }\n",
       "</style>\n",
       "<table border=\"1\" class=\"dataframe\">\n",
       "  <thead>\n",
       "    <tr style=\"text-align: right;\">\n",
       "      <th></th>\n",
       "      <th>count</th>\n",
       "    </tr>\n",
       "  </thead>\n",
       "  <tbody>\n",
       "    <tr>\n",
       "      <th>0</th>\n",
       "      <td>3553</td>\n",
       "    </tr>\n",
       "  </tbody>\n",
       "</table>\n",
       "</div>"
      ],
      "text/plain": [
       "   count\n",
       "0   3553"
      ]
     },
     "execution_count": 34,
     "metadata": {},
     "output_type": "execute_result"
    }
   ],
   "source": [
    "df = pd.read_sql_query(query_5_6, connection)\n",
    "df"
   ]
  },
  {
   "cell_type": "markdown",
   "id": "7b02bb86-0546-40fb-94a4-242f050a5c57",
   "metadata": {
    "id": "7b02bb86-0546-40fb-94a4-242f050a5c57"
   },
   "source": [
    "7. Find out the list of the cities-millionaires where the Yandex company has vacancies with counted number of vacancies. Add the row with the total sum of all Yandex vacancies. Sort the result in ascending order.\n",
    "\n",
    "List of the cities-millionaires [here](https://ru.wikipedia.org/wiki/%D0%93%D0%BE%D1%80%D0%BE%D0%B4%D0%B0-%D0%BC%D0%B8%D0%BB%D0%BB%D0%B8%D0%BE%D0%BD%D0%B5%D1%80%D1%8B_%D0%A0%D0%BE%D1%81%D1%81%D0%B8%D0%B8). \n"
   ]
  },
  {
   "cell_type": "code",
   "execution_count": 35,
   "id": "ZdfrL6gIs1Pn",
   "metadata": {
    "id": "ZdfrL6gIs1Pn"
   },
   "outputs": [
    {
     "data": {
      "text/html": [
       "<div>\n",
       "<style scoped>\n",
       "    .dataframe tbody tr th:only-of-type {\n",
       "        vertical-align: middle;\n",
       "    }\n",
       "\n",
       "    .dataframe tbody tr th {\n",
       "        vertical-align: top;\n",
       "    }\n",
       "\n",
       "    .dataframe thead th {\n",
       "        text-align: right;\n",
       "    }\n",
       "</style>\n",
       "<table border=\"1\" class=\"dataframe\">\n",
       "  <thead>\n",
       "    <tr style=\"text-align: right;\">\n",
       "      <th></th>\n",
       "      <th>№</th>\n",
       "      <th>Город</th>\n",
       "      <th>Население, тыс. чел. (итоги переписи 2021 года)[5]</th>\n",
       "      <th>Прирост относительно переписи-2010</th>\n",
       "      <th>Население, тыс. чел.(итоги переписи 2010 года)[6]</th>\n",
       "    </tr>\n",
       "  </thead>\n",
       "  <tbody>\n",
       "    <tr>\n",
       "      <th>0</th>\n",
       "      <td>1</td>\n",
       "      <td>Москва</td>\n",
       "      <td>13 010</td>\n",
       "      <td>13,1%</td>\n",
       "      <td>11 504</td>\n",
       "    </tr>\n",
       "    <tr>\n",
       "      <th>1</th>\n",
       "      <td>2</td>\n",
       "      <td>Санкт-Петербург</td>\n",
       "      <td>5602</td>\n",
       "      <td>14,8%</td>\n",
       "      <td>4880</td>\n",
       "    </tr>\n",
       "    <tr>\n",
       "      <th>2</th>\n",
       "      <td>3</td>\n",
       "      <td>Новосибирск</td>\n",
       "      <td>1634</td>\n",
       "      <td>10,9%</td>\n",
       "      <td>1474</td>\n",
       "    </tr>\n",
       "    <tr>\n",
       "      <th>3</th>\n",
       "      <td>4</td>\n",
       "      <td>Екатеринбург</td>\n",
       "      <td>1544</td>\n",
       "      <td>14,4%</td>\n",
       "      <td>1350</td>\n",
       "    </tr>\n",
       "    <tr>\n",
       "      <th>4</th>\n",
       "      <td>5</td>\n",
       "      <td>Казань</td>\n",
       "      <td>1309</td>\n",
       "      <td>14,4%</td>\n",
       "      <td>1144</td>\n",
       "    </tr>\n",
       "    <tr>\n",
       "      <th>5</th>\n",
       "      <td>6</td>\n",
       "      <td>Нижний Новгород</td>\n",
       "      <td>1226</td>\n",
       "      <td>NaN</td>\n",
       "      <td>1251</td>\n",
       "    </tr>\n",
       "    <tr>\n",
       "      <th>6</th>\n",
       "      <td>7</td>\n",
       "      <td>Челябинск</td>\n",
       "      <td>1190</td>\n",
       "      <td>5,3%</td>\n",
       "      <td>1130</td>\n",
       "    </tr>\n",
       "    <tr>\n",
       "      <th>7</th>\n",
       "      <td>8</td>\n",
       "      <td>Красноярск</td>\n",
       "      <td>1188</td>\n",
       "      <td>21,6%</td>\n",
       "      <td>977</td>\n",
       "    </tr>\n",
       "    <tr>\n",
       "      <th>8</th>\n",
       "      <td>9</td>\n",
       "      <td>Самара</td>\n",
       "      <td>1173</td>\n",
       "      <td>0,3%</td>\n",
       "      <td>1169</td>\n",
       "    </tr>\n",
       "    <tr>\n",
       "      <th>9</th>\n",
       "      <td>10</td>\n",
       "      <td>Уфа</td>\n",
       "      <td>1145</td>\n",
       "      <td>7,8%</td>\n",
       "      <td>1062</td>\n",
       "    </tr>\n",
       "    <tr>\n",
       "      <th>10</th>\n",
       "      <td>11</td>\n",
       "      <td>Ростов-на-Дону</td>\n",
       "      <td>1142</td>\n",
       "      <td>4,9%</td>\n",
       "      <td>1089</td>\n",
       "    </tr>\n",
       "    <tr>\n",
       "      <th>11</th>\n",
       "      <td>12</td>\n",
       "      <td>Омск</td>\n",
       "      <td>1126</td>\n",
       "      <td>NaN</td>\n",
       "      <td>1166</td>\n",
       "    </tr>\n",
       "    <tr>\n",
       "      <th>12</th>\n",
       "      <td>13</td>\n",
       "      <td>Краснодар</td>\n",
       "      <td>1099</td>\n",
       "      <td>43,8%</td>\n",
       "      <td>764</td>\n",
       "    </tr>\n",
       "    <tr>\n",
       "      <th>13</th>\n",
       "      <td>14</td>\n",
       "      <td>Воронеж[a]</td>\n",
       "      <td>1058</td>\n",
       "      <td>18,9%</td>\n",
       "      <td>890</td>\n",
       "    </tr>\n",
       "    <tr>\n",
       "      <th>14</th>\n",
       "      <td>15</td>\n",
       "      <td>Пермь</td>\n",
       "      <td>1034</td>\n",
       "      <td>4,3%</td>\n",
       "      <td>991</td>\n",
       "    </tr>\n",
       "    <tr>\n",
       "      <th>15</th>\n",
       "      <td>16</td>\n",
       "      <td>Волгоград</td>\n",
       "      <td>1028</td>\n",
       "      <td>0,7%</td>\n",
       "      <td>1021</td>\n",
       "    </tr>\n",
       "  </tbody>\n",
       "</table>\n",
       "</div>"
      ],
      "text/plain": [
       "     №            Город Население, тыс. чел. (итоги переписи 2021 года)[5]  \\\n",
       "0    1           Москва                                             13 010   \n",
       "1    2  Санкт-Петербург                                               5602   \n",
       "2    3      Новосибирск                                               1634   \n",
       "3    4     Екатеринбург                                               1544   \n",
       "4    5           Казань                                               1309   \n",
       "5    6  Нижний Новгород                                               1226   \n",
       "6    7        Челябинск                                               1190   \n",
       "7    8       Красноярск                                               1188   \n",
       "8    9           Самара                                               1173   \n",
       "9   10              Уфа                                               1145   \n",
       "10  11   Ростов-на-Дону                                               1142   \n",
       "11  12             Омск                                               1126   \n",
       "12  13        Краснодар                                               1099   \n",
       "13  14       Воронеж[a]                                               1058   \n",
       "14  15            Пермь                                               1034   \n",
       "15  16        Волгоград                                               1028   \n",
       "\n",
       "   Прирост относительно переписи-2010  \\\n",
       "0                               13,1%   \n",
       "1                               14,8%   \n",
       "2                               10,9%   \n",
       "3                               14,4%   \n",
       "4                               14,4%   \n",
       "5                                 NaN   \n",
       "6                                5,3%   \n",
       "7                               21,6%   \n",
       "8                                0,3%   \n",
       "9                                7,8%   \n",
       "10                               4,9%   \n",
       "11                                NaN   \n",
       "12                              43,8%   \n",
       "13                              18,9%   \n",
       "14                               4,3%   \n",
       "15                               0,7%   \n",
       "\n",
       "   Население, тыс. чел.(итоги переписи 2010 года)[6]  \n",
       "0                                             11 504  \n",
       "1                                               4880  \n",
       "2                                               1474  \n",
       "3                                               1350  \n",
       "4                                               1144  \n",
       "5                                               1251  \n",
       "6                                               1130  \n",
       "7                                                977  \n",
       "8                                               1169  \n",
       "9                                               1062  \n",
       "10                                              1089  \n",
       "11                                              1166  \n",
       "12                                               764  \n",
       "13                                               890  \n",
       "14                                               991  \n",
       "15                                              1021  "
      ]
     },
     "execution_count": 35,
     "metadata": {},
     "output_type": "execute_result"
    }
   ],
   "source": [
    "# load the list of cities-millionaires & have a look\n",
    "table_1 = pd.read_html('https://ru.wikipedia.org/wiki/%D0%93%D0%BE%D1%80%D0%BE%D0%B4%D0%B0-%D0%BC%D0%B8%D0%BB%D0%BB%D0%B8%D0%BE%D0%BD%D0%B5%D1%80%D1%8B_%D0%A0%D0%BE%D1%81%D1%81%D0%B8%D0%B8')\n",
    "millioners = table_1[1]\n",
    "millioners"
   ]
  },
  {
   "cell_type": "code",
   "execution_count": 36,
   "id": "5a0e32a4-e68a-4365-8a39-2fe24c542c36",
   "metadata": {
    "id": "5a0e32a4-e68a-4365-8a39-2fe24c542c36"
   },
   "outputs": [
    {
     "name": "stderr",
     "output_type": "stream",
     "text": [
      "<ipython-input-36-b6aac3b4ab1a>:2: FutureWarning: The default value of regex will change from True to False in a future version.\n",
      "  millioners['Город'] = millioners['Город'].str.replace('\\\\[a\\]$','')\n"
     ]
    }
   ],
   "source": [
    "# Change the ending one of the city & make it in needed type\n",
    "millioners['Город'] = millioners['Город'].str.replace('\\\\[a\\]$','')\n",
    "cities = tuple(millioners['Город'])\n",
    "\n",
    "# write a query\n",
    "query_5_7 = f'''--prepare a cities list with counted number of vacancies\n",
    "                select\n",
    "                    a.name,\n",
    "                    -- count number of vacancies\n",
    "                    count(*)\n",
    "                from public.areas a \n",
    "                left join public.vacancies v on a.id = v.area_id\n",
    "                left join public.employers e on e.id=v.employer_id\n",
    "                --filter only cities-millionaires\n",
    "                where \n",
    "                    a.name in {cities} \n",
    "                    and e.name='Яндекс'\n",
    "                group by a.name,\n",
    "                    a.id\n",
    "                -- unite tables\n",
    "                union\n",
    "                -- prepare row with total sum of the vacancies\n",
    "                select\n",
    "                    'total',\n",
    "                    count(*)\n",
    "                from public.areas a \n",
    "                left join public.vacancies v on a.id = v.area_id\n",
    "                left join public.employers e on e.id=v.employer_id\n",
    "                where \n",
    "                    a.name in {cities} \n",
    "                    and e.name='Яндекс'\n",
    "                order by 2\n",
    "               \n",
    "                '''.format(cities = cities)"
   ]
  },
  {
   "cell_type": "code",
   "execution_count": 37,
   "id": "ttPhiO1rsvPq",
   "metadata": {
    "id": "ttPhiO1rsvPq"
   },
   "outputs": [
    {
     "data": {
      "text/html": [
       "<div>\n",
       "<style scoped>\n",
       "    .dataframe tbody tr th:only-of-type {\n",
       "        vertical-align: middle;\n",
       "    }\n",
       "\n",
       "    .dataframe tbody tr th {\n",
       "        vertical-align: top;\n",
       "    }\n",
       "\n",
       "    .dataframe thead th {\n",
       "        text-align: right;\n",
       "    }\n",
       "</style>\n",
       "<table border=\"1\" class=\"dataframe\">\n",
       "  <thead>\n",
       "    <tr style=\"text-align: right;\">\n",
       "      <th></th>\n",
       "      <th>name</th>\n",
       "      <th>count</th>\n",
       "    </tr>\n",
       "  </thead>\n",
       "  <tbody>\n",
       "    <tr>\n",
       "      <th>0</th>\n",
       "      <td>Омск</td>\n",
       "      <td>21</td>\n",
       "    </tr>\n",
       "    <tr>\n",
       "      <th>1</th>\n",
       "      <td>Челябинск</td>\n",
       "      <td>22</td>\n",
       "    </tr>\n",
       "    <tr>\n",
       "      <th>2</th>\n",
       "      <td>Красноярск</td>\n",
       "      <td>23</td>\n",
       "    </tr>\n",
       "    <tr>\n",
       "      <th>3</th>\n",
       "      <td>Волгоград</td>\n",
       "      <td>24</td>\n",
       "    </tr>\n",
       "    <tr>\n",
       "      <th>4</th>\n",
       "      <td>Пермь</td>\n",
       "      <td>25</td>\n",
       "    </tr>\n",
       "    <tr>\n",
       "      <th>5</th>\n",
       "      <td>Казань</td>\n",
       "      <td>25</td>\n",
       "    </tr>\n",
       "    <tr>\n",
       "      <th>6</th>\n",
       "      <td>Ростов-на-Дону</td>\n",
       "      <td>25</td>\n",
       "    </tr>\n",
       "    <tr>\n",
       "      <th>7</th>\n",
       "      <td>Уфа</td>\n",
       "      <td>26</td>\n",
       "    </tr>\n",
       "    <tr>\n",
       "      <th>8</th>\n",
       "      <td>Самара</td>\n",
       "      <td>26</td>\n",
       "    </tr>\n",
       "    <tr>\n",
       "      <th>9</th>\n",
       "      <td>Краснодар</td>\n",
       "      <td>30</td>\n",
       "    </tr>\n",
       "    <tr>\n",
       "      <th>10</th>\n",
       "      <td>Воронеж</td>\n",
       "      <td>32</td>\n",
       "    </tr>\n",
       "    <tr>\n",
       "      <th>11</th>\n",
       "      <td>Новосибирск</td>\n",
       "      <td>35</td>\n",
       "    </tr>\n",
       "    <tr>\n",
       "      <th>12</th>\n",
       "      <td>Нижний Новгород</td>\n",
       "      <td>36</td>\n",
       "    </tr>\n",
       "    <tr>\n",
       "      <th>13</th>\n",
       "      <td>Екатеринбург</td>\n",
       "      <td>39</td>\n",
       "    </tr>\n",
       "    <tr>\n",
       "      <th>14</th>\n",
       "      <td>Санкт-Петербург</td>\n",
       "      <td>42</td>\n",
       "    </tr>\n",
       "    <tr>\n",
       "      <th>15</th>\n",
       "      <td>Москва</td>\n",
       "      <td>54</td>\n",
       "    </tr>\n",
       "    <tr>\n",
       "      <th>16</th>\n",
       "      <td>total</td>\n",
       "      <td>485</td>\n",
       "    </tr>\n",
       "  </tbody>\n",
       "</table>\n",
       "</div>"
      ],
      "text/plain": [
       "               name  count\n",
       "0              Омск     21\n",
       "1         Челябинск     22\n",
       "2        Красноярск     23\n",
       "3         Волгоград     24\n",
       "4             Пермь     25\n",
       "5            Казань     25\n",
       "6    Ростов-на-Дону     25\n",
       "7               Уфа     26\n",
       "8            Самара     26\n",
       "9         Краснодар     30\n",
       "10          Воронеж     32\n",
       "11      Новосибирск     35\n",
       "12  Нижний Новгород     36\n",
       "13     Екатеринбург     39\n",
       "14  Санкт-Петербург     42\n",
       "15           Москва     54\n",
       "16            total    485"
      ]
     },
     "execution_count": 37,
     "metadata": {},
     "output_type": "execute_result"
    }
   ],
   "source": [
    "df = pd.read_sql_query(query_5_7, connection)\n",
    "df"
   ]
  },
  {
   "cell_type": "markdown",
   "id": "04966e40-3bc3-4dc8-9ba2-e80580ce3abc",
   "metadata": {
    "id": "04966e40-3bc3-4dc8-9ba2-e80580ce3abc"
   },
   "source": [
    "***"
   ]
  },
  {
   "cell_type": "markdown",
   "id": "303834f7",
   "metadata": {
    "id": "aGGyER-yt4SR"
   },
   "source": [
    "1. The biggest employer is Yandex it has 1933 vacancies. Most companies that are at the top list by number of vacancies are telecommunications, banking and oil and gas companies. \n",
    "2. There are 593 areas without any vacancies. Some of them are just aggregated areas like countries or the whole region but some of them are cities. More than 50% of the areas without vacancies don't have any employer registered there.\n",
    "3. Yandex and Rostelekom are most spread in different regions as they are telecommunication & IT companies.\n",
    "4. 8419 employers that is 1/3d of employers don't have specified area of activity.\n",
    "5. 1138 companies have 4 area of activity.\n",
    "6. 3553 companies have *Разработка программного обеспечения* in area of activity.\n",
    "7. Yandex has 485 vacancies in cities-millionaires which is almost 1/4d of all Yandex vacancies (1933), so rest of the company's vacancies are in the rest 181-16 = 165 smaller cities. It seems that the smaller the city the fewer vacancies it has. Moscow, Saint-Petersburg and Ekaterinburg have the biggest number of vacancies in cities-millionaires because they are more populated cities. "
   ]
  },
  {
   "cell_type": "markdown",
   "id": "b1ef156a-efcb-49ce-bb23-90763e7f35b2",
   "metadata": {
    "id": "b1ef156a-efcb-49ce-bb23-90763e7f35b2",
    "tags": []
   },
   "source": [
    "# Unit 6. Subject analysis "
   ]
  },
  {
   "cell_type": "markdown",
   "id": "b9cd50a0-992d-4988-8463-2b2b1c4629b4",
   "metadata": {
    "id": "b9cd50a0-992d-4988-8463-2b2b1c4629b4"
   },
   "source": [
    "1. How many vacancies are relevant to the data?\n",
    "We consider that a vacancy is related to data if its title contains the words 'данн' or 'data'.\n",
    "\n",
    "*Hint: Please note that job titles can be written in upper or lower case.* \n"
   ]
  },
  {
   "cell_type": "code",
   "execution_count": 38,
   "id": "54ab0e50-c0f1-47cc-a54b-bc5c8bc363f9",
   "metadata": {
    "id": "54ab0e50-c0f1-47cc-a54b-bc5c8bc363f9"
   },
   "outputs": [],
   "source": [
    "query_6_1 = f'''select\n",
    "                    count(*)\n",
    "                from public.vacancies\n",
    "                -- find rows which contains words 'данн' or 'data', lower case all names\n",
    "                where \n",
    "                    lower(name) like '%data%' \n",
    "                    or lower(name) like '%данн%'\n",
    "'''"
   ]
  },
  {
   "cell_type": "code",
   "execution_count": 39,
   "id": "9F1meAqsuUjd",
   "metadata": {
    "id": "9F1meAqsuUjd"
   },
   "outputs": [
    {
     "data": {
      "text/html": [
       "<div>\n",
       "<style scoped>\n",
       "    .dataframe tbody tr th:only-of-type {\n",
       "        vertical-align: middle;\n",
       "    }\n",
       "\n",
       "    .dataframe tbody tr th {\n",
       "        vertical-align: top;\n",
       "    }\n",
       "\n",
       "    .dataframe thead th {\n",
       "        text-align: right;\n",
       "    }\n",
       "</style>\n",
       "<table border=\"1\" class=\"dataframe\">\n",
       "  <thead>\n",
       "    <tr style=\"text-align: right;\">\n",
       "      <th></th>\n",
       "      <th>count</th>\n",
       "    </tr>\n",
       "  </thead>\n",
       "  <tbody>\n",
       "    <tr>\n",
       "      <th>0</th>\n",
       "      <td>1771</td>\n",
       "    </tr>\n",
       "  </tbody>\n",
       "</table>\n",
       "</div>"
      ],
      "text/plain": [
       "   count\n",
       "0   1771"
      ]
     },
     "execution_count": 39,
     "metadata": {},
     "output_type": "execute_result"
    }
   ],
   "source": [
    "df = pd.read_sql_query(query_6_1, connection)\n",
    "df"
   ]
  },
  {
   "cell_type": "markdown",
   "id": "4dea20cb-a36b-474a-a0b9-e08e8e3857a5",
   "metadata": {
    "id": "4dea20cb-a36b-474a-a0b9-e08e8e3857a5"
   },
   "source": [
    "2. How many suitable vacancies are there for a junior data scientist?\n",
    "We will consider vacancies for data scientists to be those whose title contains at least one of the following combinations: \n",
    "* 'data scientist'\n",
    "* 'data science'\n",
    "* 'исследователь данных'\n",
    "* 'ML' (здесь не нужно брать вакансии по HTML)\n",
    "* 'machine learning'\n",
    "* 'машинн%обучен%'\n",
    "\n",
    "** In the following tasks, we will continue to work with vacancies according to this condition.*\n",
    "\n",
    "We consider the following vacancies for Junior level specialists:\n",
    "* there is a word 'junior' in its name *or*\n",
    "* experience — Нет опыта *or*\n",
    "* employment — Стажировка.\n",
    " "
   ]
  },
  {
   "cell_type": "code",
   "execution_count": 40,
   "id": "9c61b3c0-bb66-46c9-ae1e-81d3f5752b4a",
   "metadata": {
    "id": "9c61b3c0-bb66-46c9-ae1e-81d3f5752b4a"
   },
   "outputs": [],
   "source": [
    "query_6_2 = f'''select\n",
    "                    count(*)\n",
    "                from public.vacancies\n",
    "                -- lower case all names except ML/HTML comparison\n",
    "                where \n",
    "                    (lower(name) like '%data scientist%' \n",
    "                        or lower(name) like '%data science%'\n",
    "                        or lower(name) like '%исследователь данных%'\n",
    "                        or (name like '%ML%'\n",
    "                            and name not like '%HTML%')\n",
    "                        or lower(name) like '%machine learning%'\n",
    "                        or lower(name) like '%машинн%обучен%%')\n",
    "                    and (lower(name) like '%junior%'\n",
    "                        or experience = 'Нет опыта'\n",
    "                        or employment='Стажировка')\n",
    "'''"
   ]
  },
  {
   "cell_type": "code",
   "execution_count": 41,
   "id": "ZNM-LLYuu1dj",
   "metadata": {
    "id": "ZNM-LLYuu1dj"
   },
   "outputs": [
    {
     "data": {
      "text/html": [
       "<div>\n",
       "<style scoped>\n",
       "    .dataframe tbody tr th:only-of-type {\n",
       "        vertical-align: middle;\n",
       "    }\n",
       "\n",
       "    .dataframe tbody tr th {\n",
       "        vertical-align: top;\n",
       "    }\n",
       "\n",
       "    .dataframe thead th {\n",
       "        text-align: right;\n",
       "    }\n",
       "</style>\n",
       "<table border=\"1\" class=\"dataframe\">\n",
       "  <thead>\n",
       "    <tr style=\"text-align: right;\">\n",
       "      <th></th>\n",
       "      <th>count</th>\n",
       "    </tr>\n",
       "  </thead>\n",
       "  <tbody>\n",
       "    <tr>\n",
       "      <th>0</th>\n",
       "      <td>51</td>\n",
       "    </tr>\n",
       "  </tbody>\n",
       "</table>\n",
       "</div>"
      ],
      "text/plain": [
       "   count\n",
       "0     51"
      ]
     },
     "execution_count": 41,
     "metadata": {},
     "output_type": "execute_result"
    }
   ],
   "source": [
    "df = pd.read_sql_query(query_6_2, connection)\n",
    "df"
   ]
  },
  {
   "cell_type": "markdown",
   "id": "eedceb80-c5ca-480e-b27a-278dfb8b4438",
   "metadata": {
    "id": "eedceb80-c5ca-480e-b27a-278dfb8b4438"
   },
   "source": [
    "3. How many jobs are there for DS that list SQL or postgres as a key skill?\n",
    "\n",
    "** The criteria for classifying a vacancy as a DS are specified in the previous task.*"
   ]
  },
  {
   "cell_type": "code",
   "execution_count": 42,
   "id": "69621713-0cc5-4f1b-a1d7-bb144fa6148c",
   "metadata": {
    "id": "69621713-0cc5-4f1b-a1d7-bb144fa6148c"
   },
   "outputs": [],
   "source": [
    "query_6_3 = f'''select\n",
    "                    count(*)\n",
    "                from public.vacancies\n",
    "                where \n",
    "                    (lower(name) like '%data scientist%' \n",
    "                        or lower(name) like '%data science%'\n",
    "                        or lower(name) like '%исследователь данных%'\n",
    "                        or (name like '%ML%'\n",
    "                            and name not like '%HTML%')\n",
    "                        or lower(name) like '%machine learning%'\n",
    "                        or lower(name) like '%машинн%обучен%%')\n",
    "                    -- filter sql or postgres in key skills\n",
    "                    and (lower(key_skills) like '%sql%'\n",
    "                        or lower(key_skills) like '%postgres%')\n",
    "'''"
   ]
  },
  {
   "cell_type": "code",
   "execution_count": 43,
   "id": "alA8WEAAvGdf",
   "metadata": {
    "id": "alA8WEAAvGdf"
   },
   "outputs": [
    {
     "data": {
      "text/html": [
       "<div>\n",
       "<style scoped>\n",
       "    .dataframe tbody tr th:only-of-type {\n",
       "        vertical-align: middle;\n",
       "    }\n",
       "\n",
       "    .dataframe tbody tr th {\n",
       "        vertical-align: top;\n",
       "    }\n",
       "\n",
       "    .dataframe thead th {\n",
       "        text-align: right;\n",
       "    }\n",
       "</style>\n",
       "<table border=\"1\" class=\"dataframe\">\n",
       "  <thead>\n",
       "    <tr style=\"text-align: right;\">\n",
       "      <th></th>\n",
       "      <th>count</th>\n",
       "    </tr>\n",
       "  </thead>\n",
       "  <tbody>\n",
       "    <tr>\n",
       "      <th>0</th>\n",
       "      <td>201</td>\n",
       "    </tr>\n",
       "  </tbody>\n",
       "</table>\n",
       "</div>"
      ],
      "text/plain": [
       "   count\n",
       "0    201"
      ]
     },
     "execution_count": 43,
     "metadata": {},
     "output_type": "execute_result"
    }
   ],
   "source": [
    "df = pd.read_sql_query(query_6_3, connection)\n",
    "df"
   ]
  },
  {
   "cell_type": "markdown",
   "id": "1be1e9c6-37cf-4a5f-bfeb-04cab799dc80",
   "metadata": {
    "id": "1be1e9c6-37cf-4a5f-bfeb-04cab799dc80"
   },
   "source": [
    "4. Check how popular Python is in DS employer requirements. To do this, calculate the number of jobs that have Python as a key skill."
   ]
  },
  {
   "cell_type": "code",
   "execution_count": 44,
   "id": "0036a355-9ccf-4564-8b01-73d8194297e7",
   "metadata": {
    "id": "0036a355-9ccf-4564-8b01-73d8194297e7"
   },
   "outputs": [],
   "source": [
    "query_6_4 = f'''select\n",
    "                    count(*)\n",
    "                from public.vacancies\n",
    "                where \n",
    "                    (lower(name) like '%data scientist%' \n",
    "                        or lower(name) like '%data science%'\n",
    "                        or lower(name) like '%исследователь данных%'\n",
    "                        or (name like '%ML%'\n",
    "                            and name not like '%HTML%')\n",
    "                        or lower(name) like '%machine learning%'\n",
    "                        or lower(name) like '%машинн%обучен%%')\n",
    "                    and lower(key_skills) like '%python%'\n",
    "'''"
   ]
  },
  {
   "cell_type": "code",
   "execution_count": 45,
   "id": "1i-5WyucvQ6v",
   "metadata": {
    "id": "1i-5WyucvQ6v"
   },
   "outputs": [
    {
     "data": {
      "text/html": [
       "<div>\n",
       "<style scoped>\n",
       "    .dataframe tbody tr th:only-of-type {\n",
       "        vertical-align: middle;\n",
       "    }\n",
       "\n",
       "    .dataframe tbody tr th {\n",
       "        vertical-align: top;\n",
       "    }\n",
       "\n",
       "    .dataframe thead th {\n",
       "        text-align: right;\n",
       "    }\n",
       "</style>\n",
       "<table border=\"1\" class=\"dataframe\">\n",
       "  <thead>\n",
       "    <tr style=\"text-align: right;\">\n",
       "      <th></th>\n",
       "      <th>count</th>\n",
       "    </tr>\n",
       "  </thead>\n",
       "  <tbody>\n",
       "    <tr>\n",
       "      <th>0</th>\n",
       "      <td>351</td>\n",
       "    </tr>\n",
       "  </tbody>\n",
       "</table>\n",
       "</div>"
      ],
      "text/plain": [
       "   count\n",
       "0    351"
      ]
     },
     "execution_count": 45,
     "metadata": {},
     "output_type": "execute_result"
    }
   ],
   "source": [
    "df = pd.read_sql_query(query_6_4, connection)\n",
    "df"
   ]
  },
  {
   "cell_type": "markdown",
   "id": "ec3c8db7-fa21-4a41-a994-1af63742a642",
   "metadata": {
    "id": "ec3c8db7-fa21-4a41-a994-1af63742a642"
   },
   "source": [
    "5. How many key skills are listed on average in DS vacancies?\n",
    "Round your answer to two decimal places after the decimal point."
   ]
  },
  {
   "cell_type": "code",
   "execution_count": 46,
   "id": "949132bc-d5b6-4611-8218-0b9a504d74f4",
   "metadata": {
    "id": "949132bc-d5b6-4611-8218-0b9a504d74f4"
   },
   "outputs": [],
   "source": [
    "query_6_5 = f'''select \n",
    "                    -- subtract from the total length of the line with key skills\n",
    "                    -- the length of the line without tabs and add 1 for only 1 key skill rows\n",
    "                    round(avg(length(key_skills)-length(replace(key_skills,'\\t',''))+1),2) key_skills\n",
    "                from public.vacancies\n",
    "                -- filter ds vacancies\n",
    "                where \n",
    "                    (lower(name) like '%data scientist%' \n",
    "                        or lower(name) like '%data science%'\n",
    "                        or lower(name) like '%исследователь данных%'\n",
    "                        or (name like '%ML%'\n",
    "                            and name not like '%HTML%')\n",
    "                        or lower(name) like '%machine learning%'\n",
    "                        or lower(name) like '%машинн%обучен%%')\n",
    "                    -- remove not null key_skills\n",
    "                    and key_skills is not null\n",
    "'''"
   ]
  },
  {
   "cell_type": "code",
   "execution_count": 47,
   "id": "a3V24Tvmviqk",
   "metadata": {
    "id": "a3V24Tvmviqk"
   },
   "outputs": [
    {
     "data": {
      "text/html": [
       "<div>\n",
       "<style scoped>\n",
       "    .dataframe tbody tr th:only-of-type {\n",
       "        vertical-align: middle;\n",
       "    }\n",
       "\n",
       "    .dataframe tbody tr th {\n",
       "        vertical-align: top;\n",
       "    }\n",
       "\n",
       "    .dataframe thead th {\n",
       "        text-align: right;\n",
       "    }\n",
       "</style>\n",
       "<table border=\"1\" class=\"dataframe\">\n",
       "  <thead>\n",
       "    <tr style=\"text-align: right;\">\n",
       "      <th></th>\n",
       "      <th>key_skills</th>\n",
       "    </tr>\n",
       "  </thead>\n",
       "  <tbody>\n",
       "    <tr>\n",
       "      <th>0</th>\n",
       "      <td>6.41</td>\n",
       "    </tr>\n",
       "  </tbody>\n",
       "</table>\n",
       "</div>"
      ],
      "text/plain": [
       "   key_skills\n",
       "0        6.41"
      ]
     },
     "execution_count": 47,
     "metadata": {},
     "output_type": "execute_result"
    }
   ],
   "source": [
    "df = pd.read_sql_query(query_6_5, connection)\n",
    "df"
   ]
  },
  {
   "cell_type": "markdown",
   "id": "1041c17a-ca8f-4543-a0ca-32778914fb00",
   "metadata": {
    "id": "1041c17a-ca8f-4543-a0ca-32778914fb00"
   },
   "source": [
    "6. Write a query to calculate the **average** salary for DS for each type of experience required (a unique value from the *experience* field). \n",
    "\n",
    "When solving a problem, take into account the following:\n",
    "1. We consider only vacancies that have at least one of the two salary fields filled in.\n",
    "2. If both fields with salary are filled, then we consider the salary for each vacancy as the sum of two fields divided by 2. If only one of the fields is filled, then we consider it as the salary for the vacancy.\n",
    "3. If null is involved in the calculation, it will also give null as a result (see what the select 1 + null query returns). To avoid this situation, we use the function [coalesce](https://postgrespro.ru/docs/postgresql/9.5/functions-conditional#functions-coalesce-nvl-ifnull), which will replace null with the value we will pass. For example, see what the query `select 1 + coalesce(null, 0)` returns.\n",
    "\n",
    "Find out what average salary a data scientist with 3 to 6 years of work experience can expect. Round the result to the nearest whole number."
   ]
  },
  {
   "cell_type": "code",
   "execution_count": 48,
   "id": "6a743d39-5204-48d3-8271-b9f88e68d40e",
   "metadata": {
    "id": "6a743d39-5204-48d3-8271-b9f88e68d40e"
   },
   "outputs": [],
   "source": [
    "query_6_6 = f'''select\n",
    "                    experience,\n",
    "                    -- calculate average according to the instructions\n",
    "                    round(avg(coalesce((salary_from+salary_to)/2, salary_from, salary_to, 0)),0) ave_salary,\n",
    "                    count(*) vac_count\n",
    "                from public.vacancies\n",
    "                where \n",
    "                    (lower(name) like '%data scientist%' \n",
    "                        or lower(name) like '%data science%'\n",
    "                        or lower(name) like '%исследователь данных%'\n",
    "                        or (name like '%ML%'\n",
    "                            and name not like '%HTML%')\n",
    "                        or lower(name) like '%machine learning%'\n",
    "                        or lower(name) like '%машинн%обучен%%')\n",
    "                    -- select only rows which have at least one salary field filled\n",
    "                    and (salary_from is not null\n",
    "                        or salary_to is not null)\n",
    "                group by experience\n",
    "'''"
   ]
  },
  {
   "cell_type": "code",
   "execution_count": 49,
   "id": "aRIJ0mZEwU1_",
   "metadata": {
    "id": "aRIJ0mZEwU1_",
    "scrolled": true
   },
   "outputs": [
    {
     "data": {
      "text/html": [
       "<div>\n",
       "<style scoped>\n",
       "    .dataframe tbody tr th:only-of-type {\n",
       "        vertical-align: middle;\n",
       "    }\n",
       "\n",
       "    .dataframe tbody tr th {\n",
       "        vertical-align: top;\n",
       "    }\n",
       "\n",
       "    .dataframe thead th {\n",
       "        text-align: right;\n",
       "    }\n",
       "</style>\n",
       "<table border=\"1\" class=\"dataframe\">\n",
       "  <thead>\n",
       "    <tr style=\"text-align: right;\">\n",
       "      <th></th>\n",
       "      <th>experience</th>\n",
       "      <th>ave_salary</th>\n",
       "      <th>vac_count</th>\n",
       "    </tr>\n",
       "  </thead>\n",
       "  <tbody>\n",
       "    <tr>\n",
       "      <th>0</th>\n",
       "      <td>Нет опыта</td>\n",
       "      <td>74643.0</td>\n",
       "      <td>7</td>\n",
       "    </tr>\n",
       "    <tr>\n",
       "      <th>1</th>\n",
       "      <td>От 1 года до 3 лет</td>\n",
       "      <td>139675.0</td>\n",
       "      <td>28</td>\n",
       "    </tr>\n",
       "    <tr>\n",
       "      <th>2</th>\n",
       "      <td>От 3 до 6 лет</td>\n",
       "      <td>243115.0</td>\n",
       "      <td>27</td>\n",
       "    </tr>\n",
       "  </tbody>\n",
       "</table>\n",
       "</div>"
      ],
      "text/plain": [
       "           experience  ave_salary  vac_count\n",
       "0           Нет опыта     74643.0          7\n",
       "1  От 1 года до 3 лет    139675.0         28\n",
       "2       От 3 до 6 лет    243115.0         27"
      ]
     },
     "execution_count": 49,
     "metadata": {},
     "output_type": "execute_result"
    }
   ],
   "source": [
    "df = pd.read_sql_query(query_6_6, connection)\n",
    "df"
   ]
  },
  {
   "cell_type": "markdown",
   "id": "96a3c06a",
   "metadata": {},
   "source": [
    "Count number of DS vacancies"
   ]
  },
  {
   "cell_type": "code",
   "execution_count": 50,
   "id": "dd495eeb",
   "metadata": {},
   "outputs": [],
   "source": [
    "query_6_7 = f'''select\n",
    "                    count(*)\n",
    "                from public.vacancies\n",
    "                where \n",
    "                    (lower(name) like '%data scientist%' \n",
    "                        or lower(name) like '%data science%'\n",
    "                        or lower(name) like '%исследователь данных%'\n",
    "                        or (name like '%ML%'\n",
    "                            and name not like '%HTML%')\n",
    "                        or lower(name) like '%machine learning%'\n",
    "                        or lower(name) like '%машинн%обучен%%')\n",
    "                    \n",
    "'''"
   ]
  },
  {
   "cell_type": "code",
   "execution_count": 51,
   "id": "56141f58",
   "metadata": {},
   "outputs": [
    {
     "data": {
      "text/html": [
       "<div>\n",
       "<style scoped>\n",
       "    .dataframe tbody tr th:only-of-type {\n",
       "        vertical-align: middle;\n",
       "    }\n",
       "\n",
       "    .dataframe tbody tr th {\n",
       "        vertical-align: top;\n",
       "    }\n",
       "\n",
       "    .dataframe thead th {\n",
       "        text-align: right;\n",
       "    }\n",
       "</style>\n",
       "<table border=\"1\" class=\"dataframe\">\n",
       "  <thead>\n",
       "    <tr style=\"text-align: right;\">\n",
       "      <th></th>\n",
       "      <th>count</th>\n",
       "    </tr>\n",
       "  </thead>\n",
       "  <tbody>\n",
       "    <tr>\n",
       "      <th>0</th>\n",
       "      <td>480</td>\n",
       "    </tr>\n",
       "  </tbody>\n",
       "</table>\n",
       "</div>"
      ],
      "text/plain": [
       "   count\n",
       "0    480"
      ]
     },
     "execution_count": 51,
     "metadata": {},
     "output_type": "execute_result"
    }
   ],
   "source": [
    "df = pd.read_sql_query(query_6_7, connection)\n",
    "df"
   ]
  },
  {
   "cell_type": "markdown",
   "id": "5b166735",
   "metadata": {
    "id": "UjLWUptVwY1o"
   },
   "source": [
    "1. There are 1771 vacancies connected to the data which is 3.6% of all vacancies. Most DS vacancies are included in that list. There are a lot of DE, DA, BA, Data Developer vacancies there. So many vacancies are related to data because the world is developing and there is more and more data to store and analyze so that's why the most popular vacancies are related to IT and IT is the most popular area of activity.\n",
    "2. It seems that it's rather difficult to find a job for junior DS as there are only 51 vacancies suitable for junior DS which is a realy small percentage 10.6% of all DS vacancies (there are 480 DS vacancies). This is a common problem that employers don’t want to take juniors, because they need to be trained, people need to invest in them time and effort.\n",
    "3. Almost 42% or 201 DS vacancies need sql or postgres skills.\n",
    "4. 73% or 351 of DS vacancies have python in key skills. So python is one of the most important DS key skill.  \n",
    "5. Employers usually require a lot of key skills, the average number of DS key skills is 6.41, it's almost the same number of key skills as for all vacancies 6.37.\n",
    "6. Juniors without experience have the lowest average salary 74643.0 RUB, data-scientists with 1-3 years experience have 139675.0 RUB average salary and with 3-6 years experience 243115.0 RUB. Each experience period has twice bigger salary in comparison with the previous one. There are not so many vacancies (62) with salary data, 418 vacancies don't have salary at all, thus the statistics above may not fully describe the actual average DS salaries per experience.\n",
    "\n",
    "Also applying DS filters above we leave some not DS vacancies like *Разработчик C++/Qt/QML* or *Бизнес-аналитик (AML и валютный контроль)* which contain ML in name."
   ]
  },
  {
   "cell_type": "markdown",
   "id": "c0ED6fh7wiBT",
   "metadata": {
    "id": "c0ED6fh7wiBT"
   },
   "source": [
    "# Unit 7. General conclusion on the project"
   ]
  },
  {
   "cell_type": "markdown",
   "id": "7d4fc74c",
   "metadata": {},
   "source": [
    " 1. Look how many areas have vacancies or registered employers"
   ]
  },
  {
   "cell_type": "code",
   "execution_count": 53,
   "id": "2574bbc9",
   "metadata": {},
   "outputs": [],
   "source": [
    "# prepare two df with area id as it takes so much time to join all 3 tables\n",
    "\n",
    "# the 1st table contains employer registration area and the whole area list\n",
    "query_7_1 = f'''select\n",
    "                    a.id area_id,\n",
    "                    area emp_reg\n",
    "                from public.areas a\n",
    "                full join public.employers e on e.area = a.id\n",
    "                '''\n",
    "df = pd.read_sql_query(query_7_1, connection)\n",
    "\n",
    "# the 2d table contains vacancy area data\n",
    "query = f'''select\n",
    "                area_id\n",
    "            from public.vacancies\n",
    "            '''\n",
    "df_v = pd.read_sql_query(query, connection)"
   ]
  },
  {
   "cell_type": "code",
   "execution_count": 54,
   "id": "d896f9ed",
   "metadata": {},
   "outputs": [
    {
     "data": {
      "image/png": "[encoded data removed]",
      "text/plain": [
       "<Figure size 432x288 with 1 Axes>"
      ]
     },
     "metadata": {},
     "output_type": "display_data"
    }
   ],
   "source": [
    "emp_area = set(df.loc[df['emp_reg'].notna(), 'emp_reg'])\n",
    "vac_area = set(df_v['area_id'])\n",
    "area = set(df['area_id'])\n",
    "\n",
    "\n",
    "v = venn3([emp_area,vac_area, area], ('emp_area', 'vac_area', 'area'))\n",
    "plt.show()"
   ]
  },
  {
   "cell_type": "markdown",
   "id": "3a14396b",
   "metadata": {},
   "source": [
    "It seems that there are 407 redundant areas in the area table. "
   ]
  },
  {
   "cell_type": "markdown",
   "id": "9b1c2773",
   "metadata": {},
   "source": [
    "2. Look at the areas with the biggest salary & number of vacancies"
   ]
  },
  {
   "cell_type": "code",
   "execution_count": 55,
   "id": "91ba4a7c",
   "metadata": {},
   "outputs": [
    {
     "data": {
      "text/html": [
       "<div>\n",
       "<style scoped>\n",
       "    .dataframe tbody tr th:only-of-type {\n",
       "        vertical-align: middle;\n",
       "    }\n",
       "\n",
       "    .dataframe tbody tr th {\n",
       "        vertical-align: top;\n",
       "    }\n",
       "\n",
       "    .dataframe thead th {\n",
       "        text-align: right;\n",
       "    }\n",
       "</style>\n",
       "<table border=\"1\" class=\"dataframe\">\n",
       "  <thead>\n",
       "    <tr style=\"text-align: right;\">\n",
       "      <th></th>\n",
       "      <th>area</th>\n",
       "      <th>vac</th>\n",
       "      <th>ave_salary</th>\n",
       "    </tr>\n",
       "  </thead>\n",
       "  <tbody>\n",
       "    <tr>\n",
       "      <th>0</th>\n",
       "      <td>Москва</td>\n",
       "      <td>1592</td>\n",
       "      <td>134140.0</td>\n",
       "    </tr>\n",
       "    <tr>\n",
       "      <th>1</th>\n",
       "      <td>Санкт-Петербург</td>\n",
       "      <td>1203</td>\n",
       "      <td>104410.0</td>\n",
       "    </tr>\n",
       "    <tr>\n",
       "      <th>2</th>\n",
       "      <td>Новосибирск</td>\n",
       "      <td>929</td>\n",
       "      <td>107777.0</td>\n",
       "    </tr>\n",
       "    <tr>\n",
       "      <th>3</th>\n",
       "      <td>Екатеринбург</td>\n",
       "      <td>901</td>\n",
       "      <td>91896.0</td>\n",
       "    </tr>\n",
       "    <tr>\n",
       "      <th>4</th>\n",
       "      <td>Краснодар</td>\n",
       "      <td>693</td>\n",
       "      <td>92328.0</td>\n",
       "    </tr>\n",
       "    <tr>\n",
       "      <th>5</th>\n",
       "      <td>Нижний Новгород</td>\n",
       "      <td>680</td>\n",
       "      <td>96059.0</td>\n",
       "    </tr>\n",
       "    <tr>\n",
       "      <th>6</th>\n",
       "      <td>Алматы</td>\n",
       "      <td>643</td>\n",
       "      <td>73171.0</td>\n",
       "    </tr>\n",
       "    <tr>\n",
       "      <th>7</th>\n",
       "      <td>Казань</td>\n",
       "      <td>628</td>\n",
       "      <td>92207.0</td>\n",
       "    </tr>\n",
       "    <tr>\n",
       "      <th>8</th>\n",
       "      <td>Ростов-на-Дону</td>\n",
       "      <td>612</td>\n",
       "      <td>94065.0</td>\n",
       "    </tr>\n",
       "    <tr>\n",
       "      <th>9</th>\n",
       "      <td>Минск</td>\n",
       "      <td>506</td>\n",
       "      <td>90426.0</td>\n",
       "    </tr>\n",
       "    <tr>\n",
       "      <th>10</th>\n",
       "      <td>Самара</td>\n",
       "      <td>505</td>\n",
       "      <td>80223.0</td>\n",
       "    </tr>\n",
       "    <tr>\n",
       "      <th>11</th>\n",
       "      <td>Челябинск</td>\n",
       "      <td>501</td>\n",
       "      <td>77463.0</td>\n",
       "    </tr>\n",
       "    <tr>\n",
       "      <th>12</th>\n",
       "      <td>Красноярск</td>\n",
       "      <td>500</td>\n",
       "      <td>75156.0</td>\n",
       "    </tr>\n",
       "    <tr>\n",
       "      <th>13</th>\n",
       "      <td>Воронеж</td>\n",
       "      <td>467</td>\n",
       "      <td>84958.0</td>\n",
       "    </tr>\n",
       "    <tr>\n",
       "      <th>14</th>\n",
       "      <td>Владивосток</td>\n",
       "      <td>395</td>\n",
       "      <td>82727.0</td>\n",
       "    </tr>\n",
       "    <tr>\n",
       "      <th>15</th>\n",
       "      <td>Уфа</td>\n",
       "      <td>383</td>\n",
       "      <td>74733.0</td>\n",
       "    </tr>\n",
       "    <tr>\n",
       "      <th>16</th>\n",
       "      <td>Пермь</td>\n",
       "      <td>352</td>\n",
       "      <td>95985.0</td>\n",
       "    </tr>\n",
       "    <tr>\n",
       "      <th>17</th>\n",
       "      <td>Томск</td>\n",
       "      <td>350</td>\n",
       "      <td>99319.0</td>\n",
       "    </tr>\n",
       "    <tr>\n",
       "      <th>18</th>\n",
       "      <td>Нур-Султан</td>\n",
       "      <td>349</td>\n",
       "      <td>84326.0</td>\n",
       "    </tr>\n",
       "    <tr>\n",
       "      <th>19</th>\n",
       "      <td>Омск</td>\n",
       "      <td>333</td>\n",
       "      <td>86393.0</td>\n",
       "    </tr>\n",
       "  </tbody>\n",
       "</table>\n",
       "</div>"
      ],
      "text/plain": [
       "               area   vac  ave_salary\n",
       "0            Москва  1592    134140.0\n",
       "1   Санкт-Петербург  1203    104410.0\n",
       "2       Новосибирск   929    107777.0\n",
       "3      Екатеринбург   901     91896.0\n",
       "4         Краснодар   693     92328.0\n",
       "5   Нижний Новгород   680     96059.0\n",
       "6            Алматы   643     73171.0\n",
       "7            Казань   628     92207.0\n",
       "8    Ростов-на-Дону   612     94065.0\n",
       "9             Минск   506     90426.0\n",
       "10           Самара   505     80223.0\n",
       "11        Челябинск   501     77463.0\n",
       "12       Красноярск   500     75156.0\n",
       "13          Воронеж   467     84958.0\n",
       "14      Владивосток   395     82727.0\n",
       "15              Уфа   383     74733.0\n",
       "16            Пермь   352     95985.0\n",
       "17            Томск   350     99319.0\n",
       "18       Нур-Султан   349     84326.0\n",
       "19             Омск   333     86393.0"
      ]
     },
     "execution_count": 55,
     "metadata": {},
     "output_type": "execute_result"
    }
   ],
   "source": [
    "query_7_2 = f'''select\n",
    "                    a.name area,\n",
    "                    count(*) vac,\n",
    "                    round(avg(coalesce((salary_from+salary_to)/2, salary_from, salary_to, 0)),0) ave_salary\n",
    "                from public.areas a\n",
    "                left join public.vacancies v on a.id = v.area_id\n",
    "                left join public.employers e on e.id = v.employer_id\n",
    "                where \n",
    "                    salary_from is not null\n",
    "                    or salary_to is not null\n",
    "                group by \n",
    "                    a.name,\n",
    "                    a.id\n",
    "                order by 2 desc, 3 desc\n",
    "                    '''\n",
    "df = pd.read_sql_query(query_7_2, connection)\n",
    "df.head(20)"
   ]
  },
  {
   "cell_type": "markdown",
   "id": "317be2b5",
   "metadata": {},
   "source": [
    "The bigger the city, the bigger the average salary and the more vacancies it has."
   ]
  },
  {
   "cell_type": "markdown",
   "id": "2e3c6684",
   "metadata": {},
   "source": [
    "3. Look at the most common industries"
   ]
  },
  {
   "cell_type": "code",
   "execution_count": 56,
   "id": "ede36b2a",
   "metadata": {},
   "outputs": [
    {
     "data": {
      "text/html": [
       "<div>\n",
       "<style scoped>\n",
       "    .dataframe tbody tr th:only-of-type {\n",
       "        vertical-align: middle;\n",
       "    }\n",
       "\n",
       "    .dataframe tbody tr th {\n",
       "        vertical-align: top;\n",
       "    }\n",
       "\n",
       "    .dataframe thead th {\n",
       "        text-align: right;\n",
       "    }\n",
       "</style>\n",
       "<table border=\"1\" class=\"dataframe\">\n",
       "  <thead>\n",
       "    <tr style=\"text-align: right;\">\n",
       "      <th></th>\n",
       "      <th>name</th>\n",
       "      <th>count</th>\n",
       "    </tr>\n",
       "  </thead>\n",
       "  <tbody>\n",
       "    <tr>\n",
       "      <th>0</th>\n",
       "      <td>none industry</td>\n",
       "      <td>8419</td>\n",
       "    </tr>\n",
       "    <tr>\n",
       "      <th>1</th>\n",
       "      <td>Разработка программного обеспечения</td>\n",
       "      <td>3553</td>\n",
       "    </tr>\n",
       "    <tr>\n",
       "      <th>2</th>\n",
       "      <td>Системная интеграция,  автоматизации технологи...</td>\n",
       "      <td>2993</td>\n",
       "    </tr>\n",
       "    <tr>\n",
       "      <th>3</th>\n",
       "      <td>Интернет-компания (поисковики, платежные систе...</td>\n",
       "      <td>1675</td>\n",
       "    </tr>\n",
       "    <tr>\n",
       "      <th>4</th>\n",
       "      <td>Маркетинговые, рекламные, BTL, дизайнерские, E...</td>\n",
       "      <td>798</td>\n",
       "    </tr>\n",
       "    <tr>\n",
       "      <th>5</th>\n",
       "      <td>Консалтинговые услуги</td>\n",
       "      <td>662</td>\n",
       "    </tr>\n",
       "    <tr>\n",
       "      <th>6</th>\n",
       "      <td>Кадровые агентства</td>\n",
       "      <td>389</td>\n",
       "    </tr>\n",
       "    <tr>\n",
       "      <th>7</th>\n",
       "      <td>Электронно-вычислительная, оптическая, контрол...</td>\n",
       "      <td>374</td>\n",
       "    </tr>\n",
       "    <tr>\n",
       "      <th>8</th>\n",
       "      <td>Розничная сеть (продуктовая)</td>\n",
       "      <td>368</td>\n",
       "    </tr>\n",
       "    <tr>\n",
       "      <th>9</th>\n",
       "      <td>Интернет-магазин</td>\n",
       "      <td>351</td>\n",
       "    </tr>\n",
       "    <tr>\n",
       "      <th>10</th>\n",
       "      <td>Архитектура, проектирование</td>\n",
       "      <td>346</td>\n",
       "    </tr>\n",
       "    <tr>\n",
       "      <th>11</th>\n",
       "      <td>Промышленное, бытовое электрооборудование и эл...</td>\n",
       "      <td>332</td>\n",
       "    </tr>\n",
       "    <tr>\n",
       "      <th>12</th>\n",
       "      <td>Строительство коммерческих объектов (торговые ...</td>\n",
       "      <td>331</td>\n",
       "    </tr>\n",
       "    <tr>\n",
       "      <th>13</th>\n",
       "      <td>Промышленное, бытовое электрооборудование и эл...</td>\n",
       "      <td>325</td>\n",
       "    </tr>\n",
       "    <tr>\n",
       "      <th>14</th>\n",
       "      <td>Электронно-вычислительная, оптическая, контрол...</td>\n",
       "      <td>303</td>\n",
       "    </tr>\n",
       "    <tr>\n",
       "      <th>15</th>\n",
       "      <td>Строительство жилищное</td>\n",
       "      <td>297</td>\n",
       "    </tr>\n",
       "    <tr>\n",
       "      <th>16</th>\n",
       "      <td>Металлические изделия, металлоконструкции (про...</td>\n",
       "      <td>295</td>\n",
       "    </tr>\n",
       "    <tr>\n",
       "      <th>17</th>\n",
       "      <td>Государственные организации</td>\n",
       "      <td>280</td>\n",
       "    </tr>\n",
       "    <tr>\n",
       "      <th>18</th>\n",
       "      <td>Лечебно-профилактические учреждения</td>\n",
       "      <td>273</td>\n",
       "    </tr>\n",
       "    <tr>\n",
       "      <th>19</th>\n",
       "      <td>Стройматериалы, сборные конструкции для ремонт...</td>\n",
       "      <td>264</td>\n",
       "    </tr>\n",
       "  </tbody>\n",
       "</table>\n",
       "</div>"
      ],
      "text/plain": [
       "                                                 name  count\n",
       "0                                       none industry   8419\n",
       "1                 Разработка программного обеспечения   3553\n",
       "2   Системная интеграция,  автоматизации технологи...   2993\n",
       "3   Интернет-компания (поисковики, платежные систе...   1675\n",
       "4   Маркетинговые, рекламные, BTL, дизайнерские, E...    798\n",
       "5                               Консалтинговые услуги    662\n",
       "6                                  Кадровые агентства    389\n",
       "7   Электронно-вычислительная, оптическая, контрол...    374\n",
       "8                        Розничная сеть (продуктовая)    368\n",
       "9                                    Интернет-магазин    351\n",
       "10                        Архитектура, проектирование    346\n",
       "11  Промышленное, бытовое электрооборудование и эл...    332\n",
       "12  Строительство коммерческих объектов (торговые ...    331\n",
       "13  Промышленное, бытовое электрооборудование и эл...    325\n",
       "14  Электронно-вычислительная, оптическая, контрол...    303\n",
       "15                             Строительство жилищное    297\n",
       "16  Металлические изделия, металлоконструкции (про...    295\n",
       "17                        Государственные организации    280\n",
       "18                Лечебно-профилактические учреждения    273\n",
       "19  Стройматериалы, сборные конструкции для ремонт...    264"
      ]
     },
     "execution_count": 56,
     "metadata": {},
     "output_type": "execute_result"
    }
   ],
   "source": [
    "query_7_3 = f'''select\n",
    "                    i.name,\n",
    "                    count(distinct(e.id))\n",
    "                from public.employers_industries ei\n",
    "                full join public.industries i on ei.industry_id = i.id\n",
    "                full join public.employers e on e.id=ei.employer_id\n",
    "                group by i.name,\n",
    "                    industry_id\n",
    "                order by 2 desc\n",
    "                    '''\n",
    "emp_ind = pd.read_sql_query(query_7_3, connection)\n",
    "emp_ind.name.fillna(value='none industry', inplace=True)\n",
    "emp_ind.head(20)"
   ]
  },
  {
   "cell_type": "code",
   "execution_count": 57,
   "id": "b4b7f162",
   "metadata": {},
   "outputs": [
    {
     "data": {
      "image/png": "[encoded data removed]",
      "text/plain": [
       "<Figure size 1440x1584 with 1 Axes>"
      ]
     },
     "metadata": {
      "needs_background": "light"
     },
     "output_type": "display_data"
    }
   ],
   "source": [
    "# barplot for most common industries\n",
    "name = emp_ind['name'].head(20)\n",
    "price = emp_ind['count'].head(20)\n",
    "\n",
    "# prepare new ylabels\n",
    "ylabels_new = [re.sub(\"(.{53})\", \"\\\\1\\n\", label, 0, re.DOTALL) for label in name]\n",
    " \n",
    "# Figure Size\n",
    "fig, ax = plt.subplots(figsize =(20,22))\n",
    " \n",
    "# Horizontal Bar Plot\n",
    "ax.barh(ylabels_new, price)\n",
    "\n",
    "# Remove axes splines\n",
    "for s in ['top', 'bottom', 'left', 'right']:\n",
    "    ax.spines[s].set_visible(False)\n",
    "\n",
    "\n",
    "# Add padding between axes and labels\n",
    "ax.xaxis.set_tick_params(pad = 5)\n",
    "ax.yaxis.set_tick_params(pad = 10)\n",
    "\n",
    "# Add x, y gridlines\n",
    "ax.grid(b = True, color ='grey',\n",
    "        linestyle ='-.', linewidth = 0.5,\n",
    "        alpha = 0.2)\n",
    " \n",
    "# Show top values\n",
    "ax.invert_yaxis()\n",
    "\n",
    "# Add annotation to bars\n",
    "for i in ax.patches:\n",
    "    plt.text(i.get_width()+0.2, i.get_y()+0.5,\n",
    "             str(round((i.get_width()), 2)),\n",
    "             fontsize = 20, fontweight ='bold',\n",
    "             color ='grey')\n",
    "\n",
    "plt.xticks(fontsize = 15)\n",
    "plt.yticks(fontsize = 15)\n",
    "\n",
    "# Show Plot\n",
    "plt.show()"
   ]
  },
  {
   "cell_type": "markdown",
   "id": "f81233ea",
   "metadata": {},
   "source": [
    "The most popular employer industry is connected to the IT. It's because there is no binding to a specific place and relatively low equipment costs."
   ]
  },
  {
   "cell_type": "markdown",
   "id": "c6e14a6e",
   "metadata": {},
   "source": [
    "4. Look at the number of employers that don't have industry and vacancies"
   ]
  },
  {
   "cell_type": "code",
   "execution_count": 58,
   "id": "79261579",
   "metadata": {},
   "outputs": [],
   "source": [
    "query_7_4 = f'''with temp(industry, employer, e_id, e_area)as\n",
    "                (select\n",
    "                    i.name industry,\n",
    "                    e.name,\n",
    "                    e.id,\n",
    "                    e.area\n",
    "                from public.employers_industries ei\n",
    "                full join public.industries i on ei.industry_id = i.id\n",
    "                full join public.employers e on e.id=ei.employer_id\n",
    "                where \n",
    "                    i.name is null) \n",
    "                select \n",
    "                    count(*)\n",
    "                from temp\n",
    "                left join public.vacancies v on v.employer_id = e_id\n",
    "                where v.id is null    \n",
    "                    '''"
   ]
  },
  {
   "cell_type": "code",
   "execution_count": 59,
   "id": "af30340e",
   "metadata": {
    "scrolled": true
   },
   "outputs": [
    {
     "data": {
      "text/html": [
       "<div>\n",
       "<style scoped>\n",
       "    .dataframe tbody tr th:only-of-type {\n",
       "        vertical-align: middle;\n",
       "    }\n",
       "\n",
       "    .dataframe tbody tr th {\n",
       "        vertical-align: top;\n",
       "    }\n",
       "\n",
       "    .dataframe thead th {\n",
       "        text-align: right;\n",
       "    }\n",
       "</style>\n",
       "<table border=\"1\" class=\"dataframe\">\n",
       "  <thead>\n",
       "    <tr style=\"text-align: right;\">\n",
       "      <th></th>\n",
       "      <th>count</th>\n",
       "    </tr>\n",
       "  </thead>\n",
       "  <tbody>\n",
       "    <tr>\n",
       "      <th>0</th>\n",
       "      <td>3460</td>\n",
       "    </tr>\n",
       "  </tbody>\n",
       "</table>\n",
       "</div>"
      ],
      "text/plain": [
       "   count\n",
       "0   3460"
      ]
     },
     "execution_count": 59,
     "metadata": {},
     "output_type": "execute_result"
    }
   ],
   "source": [
    "df = pd.read_sql_query(query_7_4, connection)\n",
    "df"
   ]
  },
  {
   "cell_type": "markdown",
   "id": "c44cdfcf",
   "metadata": {},
   "source": [
    "Only 3460 companies that don't have industry dont have vacancies, so most of them have vacancies"
   ]
  },
  {
   "cell_type": "markdown",
   "id": "d99137b6",
   "metadata": {},
   "source": [
    "5. Look at the dependency between number of areas of activity & number of vacancies"
   ]
  },
  {
   "cell_type": "code",
   "execution_count": 60,
   "id": "0bc519cf",
   "metadata": {},
   "outputs": [],
   "source": [
    "query_7_5 = f'''select\n",
    "                    e.name,\n",
    "                    count(distinct(i.name)) areas,\n",
    "                    count(distinct(v.id)) vacancies\n",
    "                from public.employers_industries ei\n",
    "                left join public.industries i on ei.industry_id = i.id\n",
    "                left join public.employers e on e.id=ei.employer_id\n",
    "                left join public.vacancies v on v.employer_id=e.id\n",
    "                group by e.name,\n",
    "                    e.id\n",
    "                having count(distinct(v.id))<>0\n",
    "                order by 2 desc, 3 desc\n",
    "                    '''"
   ]
  },
  {
   "cell_type": "code",
   "execution_count": 61,
   "id": "0974f7a5",
   "metadata": {},
   "outputs": [
    {
     "data": {
      "text/html": [
       "<div>\n",
       "<style scoped>\n",
       "    .dataframe tbody tr th:only-of-type {\n",
       "        vertical-align: middle;\n",
       "    }\n",
       "\n",
       "    .dataframe tbody tr th {\n",
       "        vertical-align: top;\n",
       "    }\n",
       "\n",
       "    .dataframe thead th {\n",
       "        text-align: right;\n",
       "    }\n",
       "</style>\n",
       "<table border=\"1\" class=\"dataframe\">\n",
       "  <thead>\n",
       "    <tr style=\"text-align: right;\">\n",
       "      <th></th>\n",
       "      <th>name</th>\n",
       "      <th>areas</th>\n",
       "      <th>vacancies</th>\n",
       "    </tr>\n",
       "  </thead>\n",
       "  <tbody>\n",
       "    <tr>\n",
       "      <th>0</th>\n",
       "      <td>Тинькофф</td>\n",
       "      <td>5</td>\n",
       "      <td>444</td>\n",
       "    </tr>\n",
       "    <tr>\n",
       "      <th>1</th>\n",
       "      <td>Северсталь</td>\n",
       "      <td>5</td>\n",
       "      <td>69</td>\n",
       "    </tr>\n",
       "    <tr>\n",
       "      <th>2</th>\n",
       "      <td>Калашников</td>\n",
       "      <td>5</td>\n",
       "      <td>63</td>\n",
       "    </tr>\n",
       "    <tr>\n",
       "      <th>3</th>\n",
       "      <td>ЕВРАЗ</td>\n",
       "      <td>5</td>\n",
       "      <td>62</td>\n",
       "    </tr>\n",
       "    <tr>\n",
       "      <th>4</th>\n",
       "      <td>Beeline, ТМ</td>\n",
       "      <td>5</td>\n",
       "      <td>61</td>\n",
       "    </tr>\n",
       "    <tr>\n",
       "      <th>...</th>\n",
       "      <td>...</td>\n",
       "      <td>...</td>\n",
       "      <td>...</td>\n",
       "    </tr>\n",
       "    <tr>\n",
       "      <th>9942</th>\n",
       "      <td>Сеть магазинов Семья</td>\n",
       "      <td>1</td>\n",
       "      <td>1</td>\n",
       "    </tr>\n",
       "    <tr>\n",
       "      <th>9943</th>\n",
       "      <td>ComboAgency (ИП Барахоев Евгений Викторович)</td>\n",
       "      <td>1</td>\n",
       "      <td>1</td>\n",
       "    </tr>\n",
       "    <tr>\n",
       "      <th>9944</th>\n",
       "      <td>ПО Муроммашзавод</td>\n",
       "      <td>1</td>\n",
       "      <td>1</td>\n",
       "    </tr>\n",
       "    <tr>\n",
       "      <th>9945</th>\n",
       "      <td>Baza.net</td>\n",
       "      <td>1</td>\n",
       "      <td>1</td>\n",
       "    </tr>\n",
       "    <tr>\n",
       "      <th>9946</th>\n",
       "      <td>TruckMotors</td>\n",
       "      <td>1</td>\n",
       "      <td>1</td>\n",
       "    </tr>\n",
       "  </tbody>\n",
       "</table>\n",
       "<p>9947 rows × 3 columns</p>\n",
       "</div>"
      ],
      "text/plain": [
       "                                              name  areas  vacancies\n",
       "0                                         Тинькофф      5        444\n",
       "1                                       Северсталь      5         69\n",
       "2                                       Калашников      5         63\n",
       "3                                            ЕВРАЗ      5         62\n",
       "4                                      Beeline, ТМ      5         61\n",
       "...                                            ...    ...        ...\n",
       "9942                          Сеть магазинов Семья      1          1\n",
       "9943  ComboAgency (ИП Барахоев Евгений Викторович)      1          1\n",
       "9944                              ПО Муроммашзавод      1          1\n",
       "9945                                      Baza.net      1          1\n",
       "9946                                   TruckMotors      1          1\n",
       "\n",
       "[9947 rows x 3 columns]"
      ]
     },
     "execution_count": 61,
     "metadata": {},
     "output_type": "execute_result"
    }
   ],
   "source": [
    "df = pd.read_sql_query(query_7_5, connection)\n",
    "df"
   ]
  },
  {
   "cell_type": "code",
   "execution_count": 62,
   "id": "31d2c933",
   "metadata": {},
   "outputs": [
    {
     "data": {
      "image/png": "[encoded data removed]",
      "text/plain": [
       "<Figure size 432x288 with 1 Axes>"
      ]
     },
     "metadata": {
      "needs_background": "light"
     },
     "output_type": "display_data"
    }
   ],
   "source": [
    "# look at the dependency on scatter plot\n",
    "plt.scatter(df['vacancies'], df['areas'], c =\"blue\")\n",
    "\n",
    "# add labels\n",
    "plt.xlabel(\"vacancies\")\n",
    "plt.ylabel(\"areas of activity\") \n",
    "# To show the plot\n",
    "plt.show()"
   ]
  },
  {
   "cell_type": "markdown",
   "id": "edba4a12",
   "metadata": {},
   "source": [
    "It seems that there is no dependency between employers' number of vacancies and their number of areas of activity."
   ]
  },
  {
   "cell_type": "markdown",
   "id": "a70a2f8e",
   "metadata": {},
   "source": [
    "6. Look at the dependency between the employer's number of vacancies & number of areas in vacancies"
   ]
  },
  {
   "cell_type": "code",
   "execution_count": 63,
   "id": "ed811a89",
   "metadata": {},
   "outputs": [],
   "source": [
    "query_7_6 = f'''select\n",
    "                    employer_id,\n",
    "                    count(*) vacancies,\n",
    "                    count(distinct(area_id)) vacancy_areas\n",
    "                from public.vacancies\n",
    "                group by\n",
    "                    employer_id\n",
    "                order by 2 desc, 3 desc\n",
    "'''"
   ]
  },
  {
   "cell_type": "code",
   "execution_count": 64,
   "id": "d4206427",
   "metadata": {},
   "outputs": [
    {
     "data": {
      "text/html": [
       "<div>\n",
       "<style scoped>\n",
       "    .dataframe tbody tr th:only-of-type {\n",
       "        vertical-align: middle;\n",
       "    }\n",
       "\n",
       "    .dataframe tbody tr th {\n",
       "        vertical-align: top;\n",
       "    }\n",
       "\n",
       "    .dataframe thead th {\n",
       "        text-align: right;\n",
       "    }\n",
       "</style>\n",
       "<table border=\"1\" class=\"dataframe\">\n",
       "  <thead>\n",
       "    <tr style=\"text-align: right;\">\n",
       "      <th></th>\n",
       "      <th>employer_id</th>\n",
       "      <th>vacancies</th>\n",
       "      <th>vacancy_areas</th>\n",
       "    </tr>\n",
       "  </thead>\n",
       "  <tbody>\n",
       "    <tr>\n",
       "      <th>0</th>\n",
       "      <td>1740</td>\n",
       "      <td>1933</td>\n",
       "      <td>181</td>\n",
       "    </tr>\n",
       "    <tr>\n",
       "      <th>1</th>\n",
       "      <td>2748</td>\n",
       "      <td>491</td>\n",
       "      <td>152</td>\n",
       "    </tr>\n",
       "    <tr>\n",
       "      <th>2</th>\n",
       "      <td>78638</td>\n",
       "      <td>444</td>\n",
       "      <td>43</td>\n",
       "    </tr>\n",
       "    <tr>\n",
       "      <th>3</th>\n",
       "      <td>3529</td>\n",
       "      <td>428</td>\n",
       "      <td>24</td>\n",
       "    </tr>\n",
       "    <tr>\n",
       "      <th>4</th>\n",
       "      <td>39305</td>\n",
       "      <td>331</td>\n",
       "      <td>24</td>\n",
       "    </tr>\n",
       "    <tr>\n",
       "      <th>...</th>\n",
       "      <td>...</td>\n",
       "      <td>...</td>\n",
       "      <td>...</td>\n",
       "    </tr>\n",
       "    <tr>\n",
       "      <th>14901</th>\n",
       "      <td>667687</td>\n",
       "      <td>1</td>\n",
       "      <td>1</td>\n",
       "    </tr>\n",
       "    <tr>\n",
       "      <th>14902</th>\n",
       "      <td>1944521</td>\n",
       "      <td>1</td>\n",
       "      <td>1</td>\n",
       "    </tr>\n",
       "    <tr>\n",
       "      <th>14903</th>\n",
       "      <td>1946378</td>\n",
       "      <td>1</td>\n",
       "      <td>1</td>\n",
       "    </tr>\n",
       "    <tr>\n",
       "      <th>14904</th>\n",
       "      <td>1946657</td>\n",
       "      <td>1</td>\n",
       "      <td>1</td>\n",
       "    </tr>\n",
       "    <tr>\n",
       "      <th>14905</th>\n",
       "      <td>667620</td>\n",
       "      <td>1</td>\n",
       "      <td>1</td>\n",
       "    </tr>\n",
       "  </tbody>\n",
       "</table>\n",
       "<p>14906 rows × 3 columns</p>\n",
       "</div>"
      ],
      "text/plain": [
       "       employer_id  vacancies  vacancy_areas\n",
       "0             1740       1933            181\n",
       "1             2748        491            152\n",
       "2            78638        444             43\n",
       "3             3529        428             24\n",
       "4            39305        331             24\n",
       "...            ...        ...            ...\n",
       "14901       667687          1              1\n",
       "14902      1944521          1              1\n",
       "14903      1946378          1              1\n",
       "14904      1946657          1              1\n",
       "14905       667620          1              1\n",
       "\n",
       "[14906 rows x 3 columns]"
      ]
     },
     "execution_count": 64,
     "metadata": {},
     "output_type": "execute_result"
    }
   ],
   "source": [
    "df = pd.read_sql_query(query_7_6, connection)\n",
    "df"
   ]
  },
  {
   "cell_type": "code",
   "execution_count": 65,
   "id": "f9a01c85",
   "metadata": {
    "scrolled": false
   },
   "outputs": [
    {
     "data": {
      "image/png": "[encoded data removed]",
      "text/plain": [
       "<Figure size 504x504 with 1 Axes>"
      ]
     },
     "metadata": {
      "needs_background": "light"
     },
     "output_type": "display_data"
    }
   ],
   "source": [
    "fig, ax = plt.subplots(figsize =(7, 7))\n",
    "\n",
    "# look at the dependency on scatter plot\n",
    "plt.scatter(df['vacancies'], df['vacancy_areas'], c =\"blue\", s=3)\n",
    "\n",
    "# add labels \n",
    "plt.xlabel(\"vacancies\")\n",
    "plt.ylabel(\"vacancy_areas\") \n",
    "\n",
    "# set axes range\n",
    "plt.xlim(0, 175)\n",
    "\n",
    "# To show the plot\n",
    "plt.show()"
   ]
  },
  {
   "cell_type": "markdown",
   "id": "47636583",
   "metadata": {},
   "source": [
    "1. It seems that there are 407 redundant areas in the area table. \n",
    "2. The bigger the city, the bigger the average salary and the more vacancies it has.\n",
    "3. The most popular employer industry is connected to the IT. Maybe it's because there is no binding to a specific place and relatively low equipment costs.\n",
    "4. Only 3460 companies that don't have industry dont have vacancies, so most of the companies without industry have vacancies.\n",
    "5. It seems that there is no dependency between employers' number of vacancies and their number of areas of activity.\n",
    "6. It seems that there is a dependency between the number of vacancies and number of areas in these vacancies per the employer."
   ]
  },
  {
   "cell_type": "markdown",
   "id": "cd1be3bf",
   "metadata": {},
   "source": [
    "**General conclusions:**\n",
    "1. The most popular area of activity and vacancies are connected to the IT, these vacancies are common in different regions, probably because they are not tied to a particular field. The world is developing and there is more and more data to store and analyze so that's why data related vacancies take 3.6% of all vacancies which is quite a big percent.\n",
    "2. The bigger the city, the bigger the average salary and the more vacancies it has. Maybe it's because the cost of living in a big city is higher.\n",
    "3. Most employers want to find novice workers with at least 1 year experience and least employers want to find person with many years of experience maybe it's because employers need to pay more for the experience. \n",
    "4. Full employment & full day are the most common vacancy requirements.\n",
    "5. The biggest employer is Yandex it has 1933 vacancies. Most companies that are at the top list by number of vacancies are telecommunications, banking and oil and gas companies. Also Yandex is most spread in different regions meanwhile almost 1/4d of all Yandex vacancies are in the cities-millionaires.\n",
    "6. Half of the vacancies don't have any salary data this is probably due to the fact that employers don't want to share the salaries data in companies or in other places and also don't want to scare away the applicant with a too low salary. Also it is assumed that the employee himself will indicate his lower salary threshold, which he will then be paid and thus the company can save money.\n",
    "\n",
    "It would be interesting to look at the vacancies difference between cities-millioneers and small areas. Also it would be interesting to compare the size of the company and the number of cities in which there are vacancies of that company."
   ]
  },
  {
   "cell_type": "code",
   "execution_count": 66,
   "id": "913eba51",
   "metadata": {
    "id": "6a7892b4-4113-4746-adce-18aa2844f18e"
   },
   "outputs": [],
   "source": [
    "connection.close()"
   ]
  }
 ],
 "metadata": {
  "colab": {
   "collapsed_sections": [
    "8d62a9f3-f64e-4fe7-bdac-c4dffa16155e"
   ],
   "provenance": []
  },
  "hide_input": false,
  "kernelspec": {
   "display_name": "Python 3",
   "language": "python",
   "name": "python3"
  },
  "language_info": {
   "codemirror_mode": {
    "name": "ipython",
    "version": 3
   },
   "file_extension": ".py",
   "mimetype": "text/x-python",
   "name": "python",
   "nbconvert_exporter": "python",
   "pygments_lexer": "ipython3",
   "version": "3.8.8"
  },
  "toc": {
   "base_numbering": 1,
   "nav_menu": {},
   "number_sections": true,
   "sideBar": true,
   "skip_h1_title": false,
   "title_cell": "Table of Contents",
   "title_sidebar": "Contents",
   "toc_cell": false,
   "toc_position": {},
   "toc_section_display": true,
   "toc_window_display": false
  }
 },
 "nbformat": 4,
 "nbformat_minor": 5
}
